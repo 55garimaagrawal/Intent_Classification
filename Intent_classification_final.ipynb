{
  "nbformat": 4,
  "nbformat_minor": 0,
  "metadata": {
    "colab": {
      "name": "Intent_classification_final.ipynb",
      "version": "0.3.2",
      "provenance": [],
      "collapsed_sections": []
    },
    "kernelspec": {
      "name": "python3",
      "display_name": "Python 3"
    },
    "accelerator": "TPU"
  },
  "cells": [
    {
      "metadata": {
        "id": "WjgtVCwuisUK",
        "colab_type": "code",
        "outputId": "a98a0664-b21a-470c-e3ff-17bfff752c47",
        "colab": {
          "resources": {
            "http://localhost:8080/nbextensions/google.colab/files.js": {
              "data": "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",
              "ok": true,
              "headers": [
                [
                  "content-type",
                  "application/javascript"
                ]
              ],
              "status": 200,
              "status_text": ""
            }
          },
          "base_uri": "https://localhost:8080/",
          "height": 109
        }
      },
      "cell_type": "code",
      "source": [
        "from google.colab import files\n",
        "files.upload()"
      ],
      "execution_count": 1,
      "outputs": [
        {
          "output_type": "display_data",
          "data": {
            "text/html": [
              "\n",
              "     <input type=\"file\" id=\"files-f00378ea-65ee-43eb-b834-54c8d73ed948\" name=\"files[]\" multiple disabled />\n",
              "     <output id=\"result-f00378ea-65ee-43eb-b834-54c8d73ed948\">\n",
              "      Upload widget is only available when the cell has been executed in the\n",
              "      current browser session. Please rerun this cell to enable.\n",
              "      </output>\n",
              "      <script src=\"/nbextensions/google.colab/files.js\"></script> "
            ],
            "text/plain": [
              "<IPython.core.display.HTML object>"
            ]
          },
          "metadata": {
            "tags": []
          }
        },
        {
          "output_type": "stream",
          "text": [
            "Saving classified_data.csv to classified_data.csv\n"
          ],
          "name": "stdout"
        },
        {
          "output_type": "execute_result",
          "data": {
            "text/plain": [
              "{'classified_data.csv': b'Need help pleese,commonQ.assist\\r\\nNeed help,commonQ.assist\\r\\nI need some info,commonQ.assist\\r\\nWill you help me?,commonQ.assist\\r\\nWhat else can you do?,commonQ.assist\\r\\nWhat do you do?,commonQ.assist\\r\\nWhat can you help me with?,commonQ.assist\\r\\nWhat can you do?,commonQ.assist\\r\\nWhat are you good at?,commonQ.assist\\r\\nNeed help plz,commonQ.assist\\r\\nHow can you help me,commonQ.assist\\r\\nCan you help me?,commonQ.assist\\r\\nHow can you assist?,commonQ.assist\\r\\nHow can you help me?,commonQ.assist\\r\\nHow do you help?,commonQ.assist\\r\\nHow to help you?,commonQ.assist\\r\\nHow will you assist me?,commonQ.assist\\r\\ni need help,commonQ.assist\\r\\nCan you tell some info,commonQ.assist\\r\\nHelp me please,commonQ.assist\\r\\nIs this a bot?,commonQ.bot\\r\\nIs there a bot chatting to me?,commonQ.bot\\r\\nIs it automated message?,commonQ.bot\\r\\nComputer based pely,commonQ.bot\\r\\nBot or human?,commonQ.bot\\r\\nBot is chatting with me?,commonQ.bot\\r\\nAre you system generated message?,commonQ.bot\\r\\nAre you robot?,commonQ.bot\\r\\nAre you machine?,commonQ.bot\\r\\nAre you just computer?,commonQ.bot\\r\\nAre you a robot?,commonQ.bot\\r\\nAre you a person?,commonQ.bot\\r\\nAre you a machine?,commonQ.bot\\r\\nAre you a chatbot?,commonQ.bot\\r\\nAre you a bot?,commonQ.bot\\r\\nAre these automated messages?,commonQ.bot\\r\\nAm I talking to a bot?,commonQ.bot\\r\\nYou are a boy are girl?,commonQ.bot\\r\\nYou are a bot or human?,commonQ.bot\\r\\nThis is a machine?,commonQ.bot\\r\\nThis is a chatbot?,commonQ.bot\\r\\nSystem generated reply,commonQ.bot\\r\\nSir you system genretrd,commonQ.bot\\r\\nIs this computer based response,commonQ.bot\\r\\nIs this a machine?,commonQ.bot\\r\\nAre you a human?,commonQ.bot\\r\\nHows life?,commonQ.how\\r\\nHow was your day?,commonQ.how\\r\\nHow you doin?,commonQ.how\\r\\nWhats up?,commonQ.how\\r\\nWhat\\'s happening?,commonQ.how\\r\\nKya chal raha?,commonQ.how\\r\\nWassup?,commonQ.how\\r\\nHow you doing?,commonQ.how\\r\\nAre you fine?,commonQ.how\\r\\nAre you good?,commonQ.how\\r\\nHow are you?,commonQ.how\\r\\nHow are you doing?,commonQ.how\\r\\nOnly providing my number,commonQ.just_details\\r\\nOnly providing my email,commonQ.just_details\\r\\nOnly providing my contact details,commonQ.just_details\\r\\nOnly here to give my contact,commonQ.just_details\\r\\ni am just here to provide my number,commonQ.just_details\\r\\ni am just here to provide my details,commonQ.just_details\\r\\nWho are youu?,commonQ.name\\r\\nWhat can I call you?,commonQ.name\\r\\nYour name?,commonQ.name\\r\\nCan you tell me your name?,commonQ.name\\r\\nAre you there?,commonQ.name\\r\\nAny one there?,commonQ.name\\r\\nWhat is your name?,commonQ.name\\r\\nare you abir?,commonQ.name\\r\\nIs anyone there?,commonQ.name\\r\\nYour name is?,commonQ.name\\r\\nWho is chatting?,commonQ.name\\r\\nTell me about your self?,commonQ.name\\r\\nWho are you?,commonQ.name\\r\\nWho am I chatting with?,commonQ.name\\r\\nWhat\\'s your name?,commonQ.name\\r\\nWhat should I say as your name?,commonQ.name\\r\\nTell me your name?,commonQ.name\\r\\nWhat are you called?,commonQ.name\\r\\nNo I will not give the information.,commonQ.not_giving\\r\\nNo. Cannot give you.,commonQ.not_giving\\r\\nI don\\'t want to tell,commonQ.not_giving\\r\\nI don\\'t want to,commonQ.not_giving\\r\\nI don\\'t think so,commonQ.not_giving\\r\\nDon\\'t have it as of now.,commonQ.not_giving\\r\\nCannot tell you,commonQ.not_giving\\r\\nWon\\'t tell,commonQ.not_giving\\r\\nWon\\'t give you,commonQ.not_giving\\r\\nSorry but I won\\'t,commonQ.not_giving\\r\\nRight now I don\\'t have it.,commonQ.not_giving\\r\\nI have a question,commonQ.query\\r\\nNeed to aska query,commonQ.query\\r\\nI have a question for you,commonQ.query\\r\\nHAving a query,commonQ.query\\r\\nI have a query for you,commonQ.query\\r\\nI have a query,commonQ.query\\r\\nHave a query for you,commonQ.query\\r\\nWait for two minutes,commonQ.wait\\r\\nwill you please wait,commonQ.wait\\r\\nCan you  please wait,commonQ.wait\\r\\nPlease wait,commonQ.wait\\r\\nWait for some time,commonQ.wait\\r\\nWant you to wait for me,commonQ.wait\\r\\nCan you wait for two minutes,commonQ.wait\\r\\nConnect me to the support of abcd company,contact.contact\\r\\nI want a call back from you,contact.contact\\r\\nPlease tell me your tollfree number ?,contact.contact\\r\\nPlease tell me your mobile number?,contact.contact\\r\\nAddress of your company?,contact.contact\\r\\nAddress of abcd company?,contact.contact\\r\\nHow to reach out to abcd company team?,contact.contact\\r\\nHow to get in touch with your team?,contact.contact\\r\\nYour team can be reached how?,contact.contact\\r\\nYour helpline number?,contact.contact\\r\\nYour company\\'s address?,contact.contact\\r\\nHow to meet you,contact.contact\\r\\nYour email address to reach?,contact.contact\\r\\nYou have any branch at kolkata?,contact.contact\\r\\nHow contact representative?,contact.contact\\r\\nHow do i contact you?,contact.contact\\r\\nHow to get in touch with the your team?,contact.contact\\r\\nHow to contact you?,contact.contact\\r\\nWhat is your helpline number?,contact.contact\\r\\nWhich number I should call to reach you?,contact.contact\\r\\nWhich number can I call to discuss?,contact.contact\\r\\nWhich email should I use to reach to you?,contact.contact\\r\\nWhich email I must use to reach to you?,contact.contact\\r\\nGive me your number need to speak,contact.contact\\r\\nGive me your mobile no,contact.contact\\r\\nGive me the mobile number and i will call you,contact.contact\\r\\nEmail I must use to co-ordinate with you,contact.contact\\r\\nGetting in touch,contact.contact\\r\\nI need help. Connect me with support.,contact.contact\\r\\nNeed a telephonic call,contact.contact\\r\\nNeed a person to chat with me,contact.contact\\r\\nNeed human agent,contact.contact\\r\\nNeed customer care,contact.contact\\r\\nGuide me please regarding the loan?,contact.contact\\r\\nContact me on my personal number 9999999999,contact.contact\\r\\nDid not solved my query,contact.contact\\r\\nContact me please,contact.contact\\r\\nGuide me please,contact.contact\\r\\nCall me later,contact.contact\\r\\nCall me at my phone number?,contact.contact\\r\\n999999999 call me now,contact.contact\\r\\narrange call for me,contact.contact\\r\\ncall me at my number,contact.contact\\r\\nShould I get a call back tomorrow?,contact.contact\\r\\nCan I call tomorrow?,contact.contact\\r\\nContact me at my mobile number,contact.contact\\r\\nCall on the mobile number 9999999999,contact.contact\\r\\nCall on my phone number 9999999999,contact.contact\\r\\nContact me at my phone number,contact.contact\\r\\nCall on 9999999999 now,contact.contact\\r\\nPlease get me human to solve my query?,contact.contact\\r\\nPlease call me on my number,contact.contact\\r\\nWant a person to chat,contact.contact\\r\\nPlease contact me now,contact.contact\\r\\nCall me on my number,contact.contact\\r\\nWant to chat with a person,contact.contact\\r\\nWhat is your email ID?,contact.contact\\r\\nNeed to speak to an executive,contact.contact\\r\\nNeed to get in touch with the your team?,contact.contact\\r\\nNeed to contact customer care.,contact.contact\\r\\nNeed to contact customer care agent.,contact.contact\\r\\nNeed to contact customer care executive,contact.contact\\r\\nNeed to contact customer care agent now please,contact.contact\\r\\nIn which number should I reach to you?,contact.contact\\r\\nIn which number can I reach your team?,contact.contact\\r\\nIn which email to reach you?,contact.contact\\r\\nHow to reach you ?,contact.contact\\r\\ncan i meet any one in bank?,contact.contact\\r\\nCan I please contact customer care?,contact.contact\\r\\ncan u tell me your Email id ?,contact.contact\\r\\nCan you provide executive number help,contact.contact\\r\\nCan you share the contact details of the support,contact.contact\\r\\nNeed to contact you guys,contact.contact\\r\\nNeed to get in touch with the Simpler Loan team?,contact.contact\\r\\ncan i get phone number of your company,contact.contact\\r\\nCan I get a telephonic call?,contact.contact\\r\\nI wan to speak to executive,contact.contact\\r\\nIs it possible to meet any one in bank,contact.contact\\r\\nI want to speak with you,contact.contact\\r\\nI want to contact concerned people.,contact.contact\\r\\nI want to contact your team,contact.contact\\r\\nI want to tak to you,contact.contact\\r\\nI want to talk to customer care executive,contact.contact\\r\\nHow to reach out to your team?,contact.contact\\r\\nEmail I can use to reach you?,contact.contact\\r\\nDo you have any branch?,contact.contact\\r\\nCustomer support?,contact.contact\\r\\nCustomer service?,contact.contact\\r\\nPlease call me at my number,contact.contact\\r\\nNo answering correctly,contact.contact\\r\\nNeed to contact your team,contact.contact\\r\\nNeed to contact human,contact.contact\\r\\nHow to get in touch with customer service?,contact.contact\\r\\nWhat is your customer care no. ?,contact.contact\\r\\nNumber I can call to discuss,contact.contact\\r\\nWhat is your toll free number,contact.contact\\r\\nWhat\\'s the Email ID of abcd company,contact.contact\\r\\nWhere are your branches?,contact.contact\\r\\nWhere is your office located?,contact.contact\\r\\nWhere is your office?,contact.contact\\r\\nKindle send you are mobile no or email IDentification,contact.contact\\r\\ni wish to talk with representative,contact.contact\\r\\nKindly send you are customer care no,contact.contact\\r\\nLet me speak with an executive,contact.contact\\r\\nNeed to contact concerned persons,contact.contact\\r\\nWant to meet your executive,contact.contact\\r\\nwant to talk to executive,contact.contact\\r\\nWhat are the customer care contact?,contact.contact\\r\\nWhat is email ID of your company?,contact.contact\\r\\nWhat is the toll free number of abcd company,contact.contact\\r\\nWhat is the toll free number,contact.contact\\r\\nWhat is the nearest branch?,contact.contact\\r\\nWhat is the email address to reach you?,contact.contact\\r\\nHow can the the your team be reached?,contact.contact\\r\\nHow can the abcd company team be reached?,contact.contact\\r\\nHow can I speak to an executive,contact.contact\\r\\nHow can I reach your team for a query?,contact.contact\\r\\nHow can I contact you?,contact.contact\\r\\nGive your contact number.,contact.contact\\r\\nabcd company team can be reached how?,contact.contact\\r\\nabcd company email address?,contact.contact\\r\\nabcd company office is located where?,contact.contact\\r\\nAny branch at delhi?,contact.contact\\r\\nWant to meet the executive for loan information,contact.contact\\r\\nWant to communicate. So give me your number,contact.contact\\r\\nTo reach you which email address?,contact.contact\\r\\nTell me the number in which I could reach?,contact.contact\\r\\nPlease send you are number,contact.contact\\r\\nPlease provide phone no.,contact.contact\\r\\nPlease provide me the to contact person,contact.contact\\r\\nPease tell mobile number. I need to speak,contact.contact\\r\\nPlease provide me the real person,contact.contact\\r\\nPlease give your mobile no or email ID,contact.contact\\r\\nNumber to reach you,contact.contact\\r\\nNeed to chat with human,contact.contact\\r\\ni want to know your office address in punjab?,contact.contact\\r\\nLost Aadhaar,faq.aadhaar_missing\\r\\n\"I currently don\\'t have Aadhaar card, What can I do?\",faq.aadhaar_missing\\r\\nI do not have aadhaar card can I apply for loan,faq.aadhaar_missing\\r\\ni do not have addhar card can I get loan,faq.aadhaar_missing\\r\\nI do not have an Aadhaar Card. What should I do?,faq.aadhaar_missing\\r\\nIf Aadhaar card goes missing would I be able to give my application?,faq.aadhaar_missing\\r\\nIf my Aadhaar card is lost can I still submit my application?,faq.aadhaar_missing\\r\\nI lost my aadhaar can I still apply?,faq.aadhaar_missing\\r\\nIs Aadhaar card mandatory for filling the loan application?,faq.aadhaar_missing\\r\\nIs it compulsory to give Aadhaar card for the sanction of this loan?,faq.aadhaar_missing\\r\\nIs it mandatory to give Aadhaar card for loan?,faq.aadhaar_missing\\r\\nNo Aadhaar,faq.aadhaar_missing\\r\\nNo Aadhaar. Can I apply?,faq.aadhaar_missing\\r\\nNo aadhaar. Can I still get the loan?,faq.aadhaar_missing\\r\\nNo aadhaar here. Can I still get a loan?,faq.aadhaar_missing\\r\\nNo aadhaar here. Can I submit application?,faq.aadhaar_missing\\r\\nNot having aadhaar. What to do?,faq.aadhaar_missing\\r\\nWithout the aadhaar get I still get loan?,faq.aadhaar_missing\\r\\nWithout having Aadhaar card can I submit my application?,faq.aadhaar_missing\\r\\nWhat should I do if i don\\'t have Aadhaar card?,faq.aadhaar_missing\\r\\nWhat can I do if I lost Aadhaar card?,faq.aadhaar_missing\\r\\nWhat can I do if I don\\'t have Aadhaar card?,faq.aadhaar_missing\\r\\nWhat are my options if I don\\'t have the  Aadhaar card?,faq.aadhaar_missing\\r\\nTell me can you give me a loan without the Aadhaar card?,faq.aadhaar_missing\\r\\nAadhaar card is lost can I still submit my application?,faq.aadhaar_missing\\r\\nAadhaar card is missing.,faq.aadhaar_missing\\r\\n\"Aadhaar card is missing, What to do?\",faq.aadhaar_missing\\r\\n\"Aadhaar is lost, what else can I do?\",faq.aadhaar_missing\\r\\ncan I apply for loan even if I do not have addhar card?,faq.aadhaar_missing\\r\\nCan I apply without having Aadhaar card?,faq.aadhaar_missing\\r\\nCan I get loan without the Aadhaar card?,faq.aadhaar_missing\\r\\nCan I still get loan even without aadhaar?,faq.aadhaar_missing\\r\\nCan I submit my application even if I dont have Aadhaar card,faq.aadhaar_missing\\r\\n\"Don\\'t have Aadhaar card, Tell me what should I do?\",faq.aadhaar_missing\\r\\nHow to get loan without Aadhaar card?,faq.aadhaar_missing\\r\\nWhat address proof can I provide?,faq.address_proof\\r\\nTypes of address proofs I can give?,faq.address_proof\\r\\nThe types of proofs of address. Which I can give.,faq.address_proof\\r\\nThe proofs of address that I need to submit.,faq.address_proof\\r\\nThe business address proofs I can upload in the application?,faq.address_proof\\r\\nThe bills to be uploaded for proving the address?,faq.address_proof\\r\\nThe address proofs that can be uploaded in application?,faq.address_proof\\r\\nThe address proofs that are needed in this application?,faq.address_proof\\r\\nNeed to provide which address proofs?,faq.address_proof\\r\\nIn application which address proofs can be uploaded?,faq.address_proof\\r\\nFor proving the address what is the proofs I can upload?,faq.address_proof\\r\\nFor proving my address what address I need to give?,faq.address_proof\\r\\nFor proof of my address which bills do you need?,faq.address_proof\\r\\nFor address proof what bills can I upload?,faq.address_proof\\r\\nFor address proof what bills can Igive?,faq.address_proof\\r\\nThe personal address information I can upload in the application?,faq.address_proof\\r\\npersonal address proofs I\\'ll have to provide?,faq.address_proof\\r\\npersonal address proofs I need to give?,faq.address_proof\\r\\npersonal address proofs I need to upload?,faq.address_proof\\r\\nPlease tell me what are different personal address proofs I can upload in this application?,faq.address_proof\\r\\nPersonal proofs to be added in application?,faq.address_proof\\r\\nPersonal proofs added on application?,faq.address_proof\\r\\nTell me what are the personal address proofs I can upload in the application?,faq.address_proof\\r\\nWhich personal address proofs can I upload in the application?,faq.address_proof\\r\\nWhat types of personal address proofs can I provide?,faq.address_proof\\r\\nWhat types of personal address information can I upload as part of the application?,faq.address_proof\\r\\nWhat personal address can I give for my address,faq.address_proof\\r\\nWhat are the personal address proofs I can upload in the application?,faq.address_proof\\r\\nThe personal address proofs I can upload in the application?,faq.address_proof\\r\\nAddress information I can upload in the application?,faq.address_proof\\r\\nAddress proof I have to provide,faq.address_proof\\r\\nAddress proofs I can upload in the application?,faq.address_proof\\r\\nAddress proofs I\\'ll have to provide?,faq.address_proof\\r\\nAddress proofs I need to give?,faq.address_proof\\r\\nAddress proofs I need to upload?,faq.address_proof\\r\\nBills for proof of address?,faq.address_proof\\r\\nBills I can give for address proof?,faq.address_proof\\r\\nBills I can upload for proof of my address?,faq.address_proof\\r\\nBills that I can give for the address proof?,faq.address_proof\\r\\nBills to give for proof of address?,faq.address_proof\\r\\nBills to give for proving the address,faq.address_proof\\r\\nBills you need to address proof?,faq.address_proof\\r\\npersonal address proofs can I give in the application?,faq.address_proof\\r\\npersonal address information I can upload in the application?,faq.address_proof\\r\\nFor the application what are the personal adresss information I can upload?,faq.address_proof\\r\\nDifferent personal address proofs I can upload in this loan application?,faq.address_proof\\r\\nIn loan application what are diifferent personal address proofs ?,faq.address_proof\\r\\nhome or personal address proofs can I upload as part of the application?,faq.address_proof\\r\\nFor the application what are the personal adresss proofs I can upload?,faq.address_proof\\r\\nWhich address proof should I give to you?,faq.address_proof\\r\\nWhich address proofs do I need to provide?,faq.address_proof\\r\\nWhich address proofs do I need to give?,faq.address_proof\\r\\nWhich address proof do you need from me?,faq.address_proof\\r\\nWhat to upload for proving my address?,faq.address_proof\\r\\nwhat bills to give for address proof?,faq.address_proof\\r\\nWhat are the types of address proofs I need to give?,faq.address_proof\\r\\nWhat address proofs are accepted?,faq.address_proof\\r\\nTypes of address proofs that can be uploaded?,faq.address_proof\\r\\nPersonal address proofs can I provide in loan application?,faq.address_proof\\r\\nProcess of application process for getiing the loan?,faq.application_process\\r\\nProcess of abcd company direct applying?,faq.application_process\\r\\nProcess of abcd company direct application process for getiing the loan?,faq.application_process\\r\\nProcess of abcd company direct application?,faq.application_process\\r\\nProcess for applying for this loan?,faq.application_process\\r\\nProcess for applying for abcd company direct?,faq.application_process\\r\\nProcedure to take loan?,faq.application_process\\r\\nProcedure to have finance?,faq.application_process\\r\\nprocedure to get finance for business?,faq.application_process\\r\\nprocedure to get finance?,faq.application_process\\r\\nProcedure to apply for loan?,faq.application_process\\r\\nprocedure of this loan application procedure for getiing the loan?,faq.application_process\\r\\nPlease tell How can I apply for abcd company direct?,faq.application_process\\r\\nPlease tell me the process for getting the loan?,faq.application_process\\r\\nPlease tell me the process in order to apply for abcd company direct?,faq.application_process\\r\\nPlease tell me the ways for applying for abcd company direct?,faq.application_process\\r\\nprocedure of abcd company direct application procedure for getting the loan?,faq.application_process\\r\\nProcedure for loan sanction,faq.application_process\\r\\nprocedure for applying for simplerloan?,faq.application_process\\r\\nprocedure for applying for abcd company direct?,faq.application_process\\r\\nPlease tell the process of abcd company direct application to get loan?,faq.application_process\\r\\nPlease tell the process for registering abcd company direct?,faq.application_process\\r\\nPlease tell the process for applying this loan?,faq.application_process\\r\\nPlease tell the process for applying abcd company direct?,faq.application_process\\r\\nPlease tell the procedure of this loan application to get loan?,faq.application_process\\r\\nPlease tell the procedure of application to get loan?,faq.application_process\\r\\nPlease tell the procedure of abcd company direct application to get loan?,faq.application_process\\r\\nCan you please tell me the process of abcd company direct application?,faq.application_process\\r\\nCan you please tell me what are the ways to apply for abcd company direct?,faq.application_process\\r\\nCan you please tell me what are the ways to register for abcd company direct?,faq.application_process\\r\\nFor sanction of loan what is the process?,faq.application_process\\r\\nFor taking the loan what is the process?,faq.application_process\\r\\nFor the loan requirement what is the process?,faq.application_process\\r\\nGuide me the loan process,faq.application_process\\r\\nPlease tell the procedure for applying abcd company direct?,faq.application_process\\r\\nPlease tell me the ways for registering for abcd company direct?,faq.application_process\\r\\nCan you please tell me the procedure of this loan application?,faq.application_process\\r\\nI want Business loan for amount 2 lacks how can I proceed?,faq.application_process\\r\\nI want Business loan for amount 2 lacks how to proceed?,faq.application_process\\r\\nWould like to know how can I get loan?,faq.application_process\\r\\nWith the process of loan please guide me,faq.application_process\\r\\nWhere can I register for a abcd company direct?,faq.application_process\\r\\nWhere can I apply for a abcd company direct?,faq.application_process\\r\\nthis loan moblie application process?,faq.application_process\\r\\nTo get loan how to I sign up?,faq.application_process\\r\\nhow to get loan,faq.application_process\\r\\nHow to fill the loan application,faq.application_process\\r\\nHow to fill the application?,faq.application_process\\r\\nHow to do the loan application?,faq.application_process\\r\\nHow to apply for loan ?,faq.application_process\\r\\nhow to apply for loan,faq.application_process\\r\\nHow to apply for business loan?,faq.application_process\\r\\nHow to apply for abcd company direct loan?,faq.application_process\\r\\nHow to apply?,faq.application_process\\r\\nHow I will get loan?,faq.application_process\\r\\nHow is the process to apply for this loan?,faq.application_process\\r\\nI want to know the procedure for loan,faq.application_process\\r\\nCan you please tell me the procedure of application?,faq.application_process\\r\\nCan you please tell me process for the loan?,faq.application_process\\r\\nCan you please tell me about process of abcd company direct application?,faq.application_process\\r\\nCan you please tell me about procedure of abcd company direct application?,faq.application_process\\r\\nCAn I get your application form?,faq.application_process\\r\\nAs I want a new loan what is the procedure for that?,faq.application_process\\r\\nabcd company direct registering process?,faq.application_process\\r\\nabcd company direct online applying process?,faq.application_process\\r\\nabcd company direct online applying procedure?,faq.application_process\\r\\nabcd company direct moblie application process?,faq.application_process\\r\\nabcd company direct moblie application procedure?,faq.application_process\\r\\nabcd company direct applying process?,faq.application_process\\r\\nabcd company direct applying procedure?,faq.application_process\\r\\nabcd company direct applying how?,faq.application_process\\r\\nabcd company direct apply,faq.application_process\\r\\nabcd company direct application process?,faq.application_process\\r\\nabcd company direct application procedure?,faq.application_process\\r\\nHow do I proceed for loan,faq.application_process\\r\\nHow to proceed for loan,faq.application_process\\r\\nHow should I proceed for loan?,faq.application_process\\r\\nI want to know how does this application work?,faq.application_process\\r\\nI want loan what\\'s the process?,faq.application_process\\r\\nI need to know what is process of loan for a new business,faq.application_process\\r\\nI need loan tell me the process?,faq.application_process\\r\\nI need loan so what is the process?,faq.application_process\\r\\nI need a loan. How to get it??,faq.application_process\\r\\n\"I have a business, what is the paper work for taking this loan facility?\",faq.application_process\\r\\nHow would one apply for abcd company direct?,faq.application_process\\r\\nHow will I get loan?,faq.application_process\\r\\nWhat\\'s the abcd company direct applying procedure for taking the loan?,faq.application_process\\r\\nWhat\\'s the abcd company direct applying process for taking the loan?,faq.application_process\\r\\nWhat\\'s the applying process for the loan?,faq.application_process\\r\\nWhat\\'s the loan process?,faq.application_process\\r\\nWhats the loan process?,faq.application_process\\r\\nWhat\\'s the procedure for applying abcd company direct?,faq.application_process\\r\\nWhat\\'s the procedure for registering abcd company direct?,faq.application_process\\r\\nWhat\\'s the procedure to start new businesses?,faq.application_process\\r\\nWhat\\'s the process for applying this loan?,faq.application_process\\r\\nWhat\\'s the process for registering abcd company direct?,faq.application_process\\r\\nWhat to do for loan application?,faq.application_process\\r\\nHelp me with the loan procedure,faq.application_process\\r\\nGuide me through the process of loan?,faq.application_process\\r\\nHow apply for abcd company direct loan?,faq.application_process\\r\\nHow will get loan,faq.application_process\\r\\nHow to start application for loan?,faq.application_process\\r\\nHow to I sign up to get the loan,faq.application_process\\r\\nHow to I sign up for the process of loan,faq.application_process\\r\\nCan you please tell me the process?,faq.application_process\\r\\nTo get this loan ewhta is the procss?,faq.application_process\\r\\nwant to know how is the application process?,faq.application_process\\r\\nWant to know procedure for loan?,faq.application_process\\r\\nWant to know the application procedure,faq.application_process\\r\\nwant to know the procedure for application,faq.application_process\\r\\nWant to know the procedure of this loan?,faq.application_process\\r\\nWant to know the process of loan application,faq.application_process\\r\\nWant to know the process to start new business,faq.application_process\\r\\nWhat are steps to get the loan?,faq.application_process\\r\\nHow to I sign up for the loan,faq.application_process\\r\\nHow to I sign up,faq.application_process\\r\\nHow to get the loan?,faq.application_process\\r\\nWhat\\'s the process for applying abcd company direct?,faq.application_process\\r\\nWhat are the details to apply for the loan?,faq.application_process\\r\\nWhat are the ways to apply for abcd company direct?,faq.application_process\\r\\nWhat are the ways to register for abcd company direct?,faq.application_process\\r\\nWhat is Loan procedure?,faq.application_process\\r\\nWhat is the application process?,faq.application_process\\r\\nWhat is the applying process?,faq.application_process\\r\\nWhat is the procedure for this loan?,faq.application_process\\r\\nWhat is the procedure to get finance,faq.application_process\\r\\nWhat is the process and paper work for taking this loan?,faq.application_process\\r\\nWhat is the process for getting finance?,faq.application_process\\r\\nWhat is the process for getting the loan?,faq.application_process\\r\\nWhat is the process for the sanction of loan?,faq.application_process\\r\\nWhat is the process of applying for abcd company direct?,faq.application_process\\r\\nWhat is the process of applying for this loan?,faq.application_process\\r\\nWhat is the process of registering for abcd company direct?,faq.application_process\\r\\nWhat is the process of taking the loan?,faq.application_process\\r\\nWhat is the process to apply for abcd company direct?,faq.application_process\\r\\nWhat is the process to apply for simplerloan?,faq.application_process\\r\\nWhat is the process to get finance?,faq.application_process\\r\\nWhat is the process to start new business?,faq.application_process\\r\\nWhat is your application process?,faq.application_process\\r\\nWhat is your loan process?,faq.application_process\\r\\nWhat is your process of application?,faq.application_process\\r\\nWhat\\'s the abcd company direct application procedure for taking the loan?,faq.application_process\\r\\nWhat\\'s the abcd company direct application process for taking the loan?,faq.application_process\\r\\nHow is the process to apply for abcd company direct?,faq.application_process\\r\\nHow is the procedure to apply for abcd company direct?,faq.application_process\\r\\nHow is the possible to take loan?,faq.application_process\\r\\nHow is it possible to get loan?,faq.application_process\\r\\nHow I can get the loan?,faq.application_process\\r\\nHow getting loan?,faq.application_process\\r\\nHow get loan?,faq.application_process\\r\\nHow do I applying for abcd company direct?,faq.application_process\\r\\nHow do I apply for loan?,faq.application_process\\r\\nHow do I apply?,faq.application_process\\r\\nHow can I take loan from your company?,faq.application_process\\r\\nHow can I have a business loan?,faq.application_process\\r\\nHow can I get the loan please tell me the process,faq.application_process\\r\\nHow can I get It Please Tell me for process,faq.application_process\\r\\nHow can I get a loan from you?,faq.application_process\\r\\nHow can I fill the loan application?,faq.application_process\\r\\nHow can I apply for the business loan?,faq.application_process\\r\\nHow can I apply for loan?,faq.application_process\\r\\nhow can I apply for loan,faq.application_process\\r\\nHow can I apply for abcd company direct?,faq.application_process\\r\\nHow can get loan,faq.application_process\\r\\nThe process of abcd company direct applying to get loan?,faq.application_process\\r\\nThe process of abcd company direct application to get loan?,faq.application_process\\r\\nThe procedure of this loan application to get loan?,faq.application_process\\r\\nThe procedure of simplerloan application to get loan?,faq.application_process\\r\\nThe procedure of abcd company direct applying to get loan?,faq.application_process\\r\\nThe procedure of abcd company direct application to get loan?,faq.application_process\\r\\nTell me the process to get this loan?,faq.application_process\\r\\nTell me the process of abcd company direct application ?,faq.application_process\\r\\nTell me the process for applying for this loan?,faq.application_process\\r\\nTell me the procedure of this loan application?,faq.application_process\\r\\nTell me the procedure of abcd company direct application ?,faq.application_process\\r\\ntell me the procedure for applciation,faq.application_process\\r\\nTell me about the process to apply for simplerloan?,faq.application_process\\r\\nTell me about the process to apply for abcd company direct?,faq.application_process\\r\\nSteps to get the loan,faq.application_process\\r\\nSteps for availing the loan,faq.application_process\\r\\nSend me your application form,faq.application_process\\r\\nProcess to get loan for business?,faq.application_process\\r\\nProcess to get business loan?,faq.application_process\\r\\nProcess to apply for loan?,faq.application_process\\r\\nProcess to apply?,faq.application_process\\r\\nProcess of abcd company direct applying process for getiing the loan?,faq.application_process\\r\\nNeed offline application form,faq.application_process\\r\\nNeed the details to apply for loan?,faq.application_process\\r\\nNeed the process for loan,faq.application_process\\r\\nneed to know the loan process,faq.application_process\\r\\nNeed your application form,faq.application_process\\r\\nplease guide me the with procedure of the loan?,faq.application_process\\r\\nPlease send application form,faq.application_process\\r\\nI want to know what is process of loan for a new business,faq.application_process\\r\\nI would like to know the process of application,faq.application_process\\r\\nI would like to know the process of loan,faq.application_process\\r\\nloan application procedure?,faq.application_process\\r\\nLoan applying process?,faq.application_process\\r\\nLoan apply karna hai,faq.application_process\\r\\nMobile app abcd company direct applying procedure?,faq.application_process\\r\\nMobile app loan applying procedure?,faq.application_process\\r\\nNedd help with loan procedure,faq.application_process\\r\\nNeed loan so how is it possible?,faq.application_process\\r\\nWhat is process for enrolling for sodexo pass?,faq.apply_register\\r\\nGive me the application process,faq.apply_register\\r\\nHow will I create a new account?,faq.apply_register\\r\\nHow do I enroll for a meal pass?,faq.apply_register\\r\\nHow to sign up?,faq.apply_register\\r\\nHow do I register?,faq.apply_register\\r\\nCan you please tell me the process of sodexo pass application?,faq.apply_register\\r\\nCan you please tell me the process?,faq.apply_register\\r\\nCan you please tell me the procedure of this pass application?,faq.apply_register\\r\\nCan you please tell me the procedure of application?,faq.apply_register\\r\\nSodexo meal pass registering process?,faq.apply_register\\r\\nSodexo pass online applying process?,faq.apply_register\\r\\nSodexo pass online applying procedure?,faq.apply_register\\r\\nApply through mobile or website?,faq.apply_register\\r\\nSodexo moblie application procedure?,faq.apply_register\\r\\nSodexo applying process?,faq.apply_register\\r\\nSodexo applying procedure?,faq.apply_register\\r\\nSodexo pass applying how?,faq.apply_register\\r\\nSodexo pass apply,faq.apply_register\\r\\nSodexo pass application process?,faq.apply_register\\r\\nSodexo pass application procedure?,faq.apply_register\\r\\nHow should I proceed for pass?,faq.apply_register\\r\\nHow do I proceed for meal pass,faq.apply_register\\r\\nHow to proceed for pass,faq.apply_register\\r\\nWhat is the process for getting the pass?,faq.apply_register\\r\\nNeed a new meal pass how to apply,faq.apply_register\\r\\nNew pass needed,faq.apply_register\\r\\nHow to apply for a new pass,faq.apply_register\\r\\nHow to register for a new meal pass,faq.apply_register\\r\\nHow to apply for meal pass?,faq.apply_register\\r\\nProcess for registration,faq.apply_register\\r\\nRegister for premium pass,faq.apply_register\\r\\nApply for premium pass?,faq.apply_register\\r\\nRegister for meal pass.,faq.apply_register\\r\\nHow to apply?,faq.apply_register\\r\\nApplication process?,faq.apply_register\\r\\nRegistration method?,faq.apply_register\\r\\nProcess of application,faq.apply_register\\r\\nHow do I apply?,faq.apply_register\\r\\nGive me the registration procedure,faq.apply_register\\r\\nWhat form do i have to fill for enrolling into sodexo,faq.apply_register\\r\\nHow can i join sodexo?,faq.apply_register\\r\\nHow can i book my sodexo pass?,faq.apply_register\\r\\nCan you guide me through your company\\x89\\xdb\\xaas enrollment procedure,faq.apply_register\\r\\nSign up for sodexo pass/card,faq.apply_register\\r\\nApply for meal pass.,faq.apply_register\\r\\nRegistration process for meal pass?,faq.apply_register\\r\\nApplication process for meal pass?,faq.apply_register\\r\\nHow to apply/register?,faq.apply_register\\r\\nWhat is the registration process?,faq.apply_register\\r\\nHow do i utilize serves provided by your company,faq.apply_register\\r\\nProcess of signing up for sodexo,faq.apply_register\\r\\nHw do i register?,faq.apply_register\\r\\nCan i signup here?,faq.apply_register\\r\\nCn u hlp me with registration?,faq.apply_register\\r\\nWhere can I apply or register for a Sodexo card?,faq.apply_register\\r\\nHow to register?,faq.apply_register\\r\\nProcess of registering?,faq.apply_register\\r\\nHow do I apply for meal pass?,faq.apply_register\\r\\nWhat is the application process?,faq.apply_register\\r\\nApply kaise kare?,faq.apply_register\\r\\nApplication method?,faq.apply_register\\r\\nTime it takes to get the loan to be approved?,faq.approval_time\\r\\nTime it will take to get a loan approval?,faq.approval_time\\r\\nTime it will take to get a loan sanctioned?,faq.approval_time\\r\\nTime needed for the loan approved?,faq.approval_time\\r\\nTime needed for the loan granted?,faq.approval_time\\r\\nTime need for the loan approval?,faq.approval_time\\r\\nTime required for loan approval?,faq.approval_time\\r\\nWhy is this approval taking so much time?,faq.approval_time\\r\\nWhat\\'s the time you take for approving any loan,faq.approval_time\\r\\nWhat\\'s the time you need to sanction my loan,faq.approval_time\\r\\nWhat\\'s the time you need to approve my loan,faq.approval_time\\r\\nWhat is the time duration for approval?,faq.approval_time\\r\\nWhat is the approval time for this loan?,faq.approval_time\\r\\nWh are you taking so time time for approval?,faq.approval_time\\r\\nToo much time for approval,faq.approval_time\\r\\nTime you need for giving me a loan granted?,faq.approval_time\\r\\nTime you need for giving me a loan approved?,faq.approval_time\\r\\nTime you\\'d take for process the loan sanction,faq.approval_time\\r\\nFor this loan what is the approval time?,faq.approval_time\\r\\nHow long does it take for a loan to be approved?,faq.approval_time\\r\\nHow long will it take to get the money after loan has been sanctioned?,faq.approval_time\\r\\nHow long will it time required after the loan has been granted?,faq.approval_time\\r\\nHow long will you take to give me loan amount after the loan has been approved?,faq.approval_time\\r\\nHow many days does loan approval take?,faq.approval_time\\r\\nHow many days will loan approval take?,faq.approval_time\\r\\nHow much time does it take for loan approval?,faq.approval_time\\r\\nHow much time for approval of loan?,faq.approval_time\\r\\nHow much time is needed for approval of loan?,faq.approval_time\\r\\nHow much time will be required for loan approval?,faq.approval_time\\r\\nHow much time will it take to approve my loan?,faq.approval_time\\r\\nHow much time will it take to sanction my loan?,faq.approval_time\\r\\nhow much time you are going to to take for approval of loan?,faq.approval_time\\r\\nHow much time you need to give me loan amount after the loan is approved?,faq.approval_time\\r\\nHow much time you need to give me money after the loan is approved?,faq.approval_time\\r\\nIn how many days after submitting is the loan approved?,faq.approval_time\\r\\nIn how many days is the the loan approved?,faq.approval_time\\r\\nIn how much time can you you give the loan,faq.approval_time\\r\\nIn how much time will I get loan after applying?,faq.approval_time\\r\\nLoan approval is taking lot of time,faq.approval_time\\r\\nLoan approval takes how much time?,faq.approval_time\\r\\nLoan is approved in how many days?,faq.approval_time\\r\\nThe loan approval is going for a long time,faq.approval_time\\r\\nTime for approval is very much,faq.approval_time\\r\\nTime it takes to get the loan to be granted?,faq.approval_time\\r\\nTime you need for approval,faq.approval_time\\r\\nTime you\\'d take for process the loan approval,faq.approval_time\\r\\nTime required for loan sanction process,faq.approval_time\\r\\nTime required for loan approval process,faq.approval_time\\r\\nAfter applying in how much time will I get loan?,faq.approval_time\\r\\nAfter applying loan will get in how much time?,faq.approval_time\\r\\nAfter loan application how much time required?,faq.approval_time\\r\\nAfter the loan process how much time is required?,faq.approval_time\\r\\nAfter the process how much time needed?,faq.approval_time\\r\\nAlready applied in how much time will I get loan?,faq.approval_time\\r\\nApproval is taking very much time...,faq.approval_time\\r\\nApproval time is too long.,faq.approval_time\\r\\nApproval time is very much,faq.approval_time\\r\\nFor approval of loan how much time is required?,faq.approval_time\\r\\nFor getting this loan what is the time required for approval?,faq.approval_time\\r\\nFor loan approval how much time will be required?,faq.approval_time\\r\\nfor loan what is the approval time?,faq.approval_time\\r\\nFor long time loan approval is going on,faq.approval_time\\r\\nyou cannot help me,faq.bad_service\\r\\nI don\\'t get response,faq.bad_service\\r\\nReally bad support,faq.bad_service\\r\\nNo response from your side,faq.bad_service\\r\\nHave not recieved responses,faq.bad_service\\r\\nDo not recieved any response from you guys,faq.bad_service\\r\\nYou don\\'t respond to my emails,faq.bad_service\\r\\nYou guys have a really bad service,faq.bad_service\\r\\nNo response of my emails,faq.bad_service\\r\\nYou have not responded to my email queries,faq.bad_service\\r\\nabcd company has a bad support,faq.bad_service\\r\\nYou have a bad support,faq.bad_service\\r\\nYou really have a bad service,faq.bad_service\\r\\nBad service you have,faq.bad_service\\r\\nI cannot find my current bank in net banking option,faq.banking_option_missing\\r\\nIn net banking option I cannot find my bank,faq.banking_option_missing\\r\\nIn net banking option I cannot find my current bank,faq.banking_option_missing\\r\\nMy bank is not available in net banking option,faq.banking_option_missing\\r\\nMy bank is not present in net banking choice,faq.banking_option_missing\\r\\nMy bank is not present in net banking option,faq.banking_option_missing\\r\\nBank is not there in banking options?,faq.banking_option_missing\\r\\nMy bank is not supported,faq.banking_option_missing\\r\\nMy bank is not there in options,faq.banking_option_missing\\r\\nMy bank option is missing?,faq.banking_option_missing\\r\\nMy current bank is not present in net banking option,faq.banking_option_missing\\r\\nCan you tell me why is my curent bank not present in net banking option?,faq.banking_option_missing\\r\\nMy pank is missing from options?,faq.banking_option_missing\\r\\nNo my bank is not present in the options,faq.banking_option_missing\\r\\nWhy is my current bank not available in net banking option?,faq.banking_option_missing\\r\\nWhy is my current bank not present in Net banking option?,faq.banking_option_missing\\r\\nWhy is my current bank not present in online banking choice?,faq.banking_option_missing\\r\\nWhy is my current bank not showing in the net banking option,faq.banking_option_missing\\r\\nWhy si my bank not supported,faq.banking_option_missing\\r\\nWill I need an account of a specific bank for making the loan application?,faq.banking_option_missing\\r\\nCan you tell me why is my current bank not present in online banking choice?,faq.banking_option_missing\\r\\nDo I need to have an account of a certain bank for making the loan application because my bank is not avalable in net banking option,faq.banking_option_missing\\r\\nDo I need to have an account of a specific bank for making the loan application?,faq.banking_option_missing\\r\\nFor making loan application do I need to have an account on a certain bank as my bank is not showing up in net banking option,faq.banking_option_missing\\r\\nFor making loan application do I need to have an account on a specific bank?,faq.banking_option_missing\\r\\nFor making loan application do I need to have an account on a specific bank because my bank is not present in net banking option,faq.banking_option_missing\\r\\nFor the application of Loan will I have to make an account on a certain bank as in the net banking option my current bank is not available,faq.banking_option_missing\\r\\nHelp me because I cannot find my bank in net banking option,faq.banking_option_missing\\r\\nHelp me because I cannot find my current bank in net banking option,faq.banking_option_missing\\r\\nHow should I proceed as I cannot find my bank in online banking choices?,faq.banking_option_missing\\r\\nI cannot find my bank in Net banking.,faq.banking_option_missing\\r\\nI cannot find my bank in net banking option,faq.banking_option_missing\\r\\nIn net banking choice I cannot find my bank?,faq.banking_option_missing\\r\\nBank is not there in the options,faq.banking_option_missing\\r\\nBank not there on the options,faq.banking_option_missing\\r\\ncannot find my bank in net banking choice,faq.banking_option_missing\\r\\nCannot find my bank in netbanking option,faq.banking_option_missing\\r\\nBank is not supported by you,faq.banking_option_missing\\r\\nBank is not present in the options,faq.banking_option_missing\\r\\nYou do no support my bank,faq.banking_option_missing\\r\\nWould I need an account with a specific bank to make the loan application?,faq.banking_option_missing\\r\\nWill I need an account of a specific bank for making the loan application as I cannot find my current bank in net banking option?,faq.banking_option_missing\\r\\nWhy is my bank not showing in the online banking choice?,faq.banking_option_missing\\r\\nWhy is my bank not showing in the net banking option,faq.banking_option_missing\\r\\nWhy is my bank not present in Net banking option?,faq.banking_option_missing\\r\\nWhy is my bank is not present in net banking option?,faq.banking_option_missing\\r\\nWhy is my bank is not present in net banking choices?,faq.banking_option_missing\\r\\nWhy is my bank is not available in net banking option?,faq.banking_option_missing\\r\\nThere is not my bank is net banking option?,faq.banking_option_missing\\r\\nThere are Issues with net banking,faq.banking_option_missing\\r\\nSome Issues coming with net banking,faq.banking_option_missing\\r\\nPlease tell me why is my current bank not present in net banking option?,faq.banking_option_missing\\r\\nPlease tell me why is my curent bank not present in net banking option?,faq.banking_option_missing\\r\\nPlease tell me why is my curent bank not available in net banking option?,faq.banking_option_missing\\r\\nWhat should I enter if my business category is not presented in the choices?,faq.biz_category_missing\\r\\nCannot find Industry Type.,faq.biz_category_missing\\r\\nCannot find Industry Type on the options.,faq.biz_category_missing\\r\\nCategory I\\'m in is not present in the options,faq.biz_category_missing\\r\\nI cannot find my Business Category / Business Type in the options provided. What should I enter?,faq.biz_category_missing\\r\\nMy business is not present on the category list,faq.biz_category_missing\\r\\nWhat should I enter if my business category is not presented in the options?,faq.biz_category_missing\\r\\nWhat should I enter if my business type is not presented in the options?,faq.biz_category_missing\\r\\nWhat to do as my business is not listed in the options?,faq.biz_category_missing\\r\\nWhat to do as my business is not listed on the categories?,faq.biz_category_missing\\r\\nWhat to do if my business category is not in the options?,faq.biz_category_missing\\r\\nWhat to enter if my my business category is not listed?,faq.biz_category_missing\\r\\nWhat to enter if my my business type is not listed?,faq.biz_category_missing\\r\\nWhich option should I choose If my business category is not present?,faq.biz_category_missing\\r\\n\"Actually the business category I\\'m in is not present in the choices, What should I do?\",faq.biz_category_missing\\r\\n\"Actualy the business category I\\'m in is not present in the options, What should I do?\",faq.biz_category_missing\\r\\nif my business category is not present in the options,faq.biz_category_missing\\r\\nIndustry Type is not there in the options.,faq.biz_category_missing\\r\\n\"In the business category my business is not listed, What to do?\",faq.biz_category_missing\\r\\n\"In the business type my business is not listed, What to do?\",faq.biz_category_missing\\r\\nIn the options cannot find Industry Type.,faq.biz_category_missing\\r\\n\"In the options provided business category is not present, What should I do?\",faq.biz_category_missing\\r\\n\"My biz category is missing in the options, What can I do?\",faq.biz_category_missing\\r\\n\"My Business category is missing in the choices, What can I do?\",faq.biz_category_missing\\r\\nMy Business category is missing in the options.,faq.biz_category_missing\\r\\n\"My Business category is missing in the options, What can I do?\",faq.biz_category_missing\\r\\nMy business category is not there.,faq.biz_category_missing\\r\\nMy business category missing from the options.,faq.biz_category_missing\\r\\nMy business if different form the choices,faq.biz_category_missing\\r\\nMy business is not listed in the options.,faq.biz_category_missing\\r\\nMy business is not present on the category options.,faq.biz_category_missing\\r\\nMy business is not there in category,faq.biz_category_missing\\r\\n\"My Business type is missing in the options, What can I do?\",faq.biz_category_missing\\r\\nThe business I\\'m in is not there on the category list,faq.biz_category_missing\\r\\n\"What can I do, even if my business category is not present in the choices?\",faq.biz_category_missing\\r\\n\"What can I do, even if my business category is not present in the options?\",faq.biz_category_missing\\r\\nWhat should I enter if my biz type is not presented in the options?,faq.biz_category_missing\\r\\n\"Business category is not there in the options, Which option should I chosse now ?\",faq.biz_category_missing\\r\\nBusiness category missing from the options,faq.biz_category_missing\\r\\nBusiness category missing from the options. What should I do?,faq.biz_category_missing\\r\\nnew companies can also apply?,faq.biz_new\\r\\nCan I get loan for new enterprise?,faq.biz_new\\r\\nCan I get loan for new venture,faq.biz_new\\r\\nCan i get loan for start new business?,faq.biz_new\\r\\ncan i get loan to start new business?,faq.biz_new\\r\\nCan new businesses also apply for loan?,faq.biz_new\\r\\nCan new companies apply for loan?,faq.biz_new\\r\\nI just opened a new business,faq.biz_new\\r\\nI\\'m a beginner in business,faq.biz_new\\r\\nI\\'m new in business so I can get loan?,faq.biz_new\\r\\nI\\'m planning to start up,faq.biz_new\\r\\nI\\'m starting business,faq.biz_new\\r\\nI started my business last week,faq.biz_new\\r\\nI started my business started last month,faq.biz_new\\r\\ni started one my company last week,faq.biz_new\\r\\nI starting new firm for business,faq.biz_new\\r\\nI starting new firm for new business,faq.biz_new\\r\\nIts a fresh company,faq.biz_new\\r\\ni want create a business,faq.biz_new\\r\\ni want the money to start a new business,faq.biz_new\\r\\nI want to open a business,faq.biz_new\\r\\nI want to open an enterprise,faq.biz_new\\r\\nI want to start a business.,faq.biz_new\\r\\nI want to start a service,faq.biz_new\\r\\nI want to start a small business can you give me loan?,faq.biz_new\\r\\nI want to start my business so need loan,faq.biz_new\\r\\nI want to start my own enterprise,faq.biz_new\\r\\nLoan available for company less than one year,faq.biz_new\\r\\nLoan available for setting up new business,faq.biz_new\\r\\nLoan for new business?,faq.biz_new\\r\\nLoan give to start business now?,faq.biz_new\\r\\nLoan is available for new businesses?,faq.biz_new\\r\\nMy business is new,faq.biz_new\\r\\nMy business is relatively new,faq.biz_new\\r\\nmy company is started 1 month before,faq.biz_new\\r\\nMy company just started months ago,faq.biz_new\\r\\nNeed to start own venture,faq.biz_new\\r\\nNew business can get loan?,faq.biz_new\\r\\nNew businesses can also apply for loans?,faq.biz_new\\r\\nNew businesses can get loans?,faq.biz_new\\r\\nCan any fresher apply for loan?,faq.biz_new\\r\\nNew company can apply for loan?,faq.biz_new\\r\\nNewly opened company,faq.biz_new\\r\\nNew venture can get loan?,faq.biz_new\\r\\nNow starting a new business,faq.biz_new\\r\\nRecently started my company,faq.biz_new\\r\\nSir I have opened new business,faq.biz_new\\r\\nStarted my company last month,faq.biz_new\\r\\nStarting a business now,faq.biz_new\\r\\nStarting a new business,faq.biz_new\\r\\nThe business I have is not so old,faq.biz_new\\r\\nThe business is relatively new,faq.biz_new\\r\\nTo start a business can you give me loan?,faq.biz_new\\r\\nWant to build a new empire,faq.biz_new\\r\\nWant to start a business,faq.biz_new\\r\\nWant to start a business and need loan for that,faq.biz_new\\r\\nWant to start a new venture,faq.biz_new\\r\\nWant to start business needs loan for that,faq.biz_new\\r\\nWhat to start new business for which I want loan?,faq.biz_new\\r\\nWill you me loan to start my own business?,faq.biz_new\\r\\nWould like to start a small company. Need loan for that.,faq.biz_new\\r\\nNew in business so can I get loan?,faq.biz_new\\r\\nApna business open karna hai sir,faq.biz_new\\r\\nBusiness start karna hai,faq.biz_new\\r\\nBusiness shuru karna hai,faq.biz_new\\r\\nthis is my first business,faq.biz_new\\r\\nI am starting an online business,faq.biz_new\\r\\nCan a new business get a loan from you?,faq.biz_new\\r\\nThis loan would be good for my business?,faq.biz_simpler\\r\\nthis loan is available to all kinds of business?,faq.biz_simpler\\r\\nThis loan caters to which kind of businesses?,faq.biz_simpler\\r\\nThe types of companies you give loan to,faq.biz_simpler\\r\\nThe loan you give is right for my company?,faq.biz_simpler\\r\\nThe kind of companies you give the loan?,faq.biz_simpler\\r\\nThe categories of company you give the loan to,faq.biz_simpler\\r\\nTell me the types of companies to which you give loan,faq.biz_simpler\\r\\nTell me the types of companies that can use this loan?,faq.biz_simpler\\r\\nTell me the types of companies that can use abcd company direct?,faq.biz_simpler\\r\\nTell me the business that I take loan from you?,faq.biz_simpler\\r\\nTell me the business that can use this loan?,faq.biz_simpler\\r\\nTell me the business that can use abcd company direct?,faq.biz_simpler\\r\\nProviding loan is available for all kind of biz?,faq.biz_simpler\\r\\nOnly business who can apply for abcd company direct from abcd company?,faq.biz_simpler\\r\\nNumber of companies to give  the loan too,faq.biz_simpler\\r\\nMy business can avail abcd company direct from abcd company?,faq.biz_simpler\\r\\nMy biz can apply for loan?,faq.biz_simpler\\r\\nLoan you give is to which types of companies?,faq.biz_simpler\\r\\nLoan will be offered to which types of business?,faq.biz_simpler\\r\\nLoan is provided to which type of businesses?,faq.biz_simpler\\r\\nLoan is provided for which businesses?,faq.biz_simpler\\r\\nloan is given to which firms?,faq.biz_simpler\\r\\nLoan is given by you for which companies,faq.biz_simpler\\r\\nloan can used by which business?,faq.biz_simpler\\r\\nLoan can be taken by me?,faq.biz_simpler\\r\\nLoan available for business like ours?,faq.biz_simpler\\r\\nKeep simple tp,faq.biz_simpler\\r\\nIs this type of loan right for my business?,faq.biz_simpler\\r\\nIs this loan right for mine business?,faq.biz_simpler\\r\\nIs Loan good for my business?,faq.biz_simpler\\r\\nIs abcd company direct right for my business?,faq.biz_simpler\\r\\nIs abcd company direct good for my business?,faq.biz_simpler\\r\\nIs abcd company direct appropriate for my business?,faq.biz_simpler\\r\\nI have a proprietorship. Can I apply?,faq.biz_simpler\\r\\nI have a private company. Can I apply?,faq.biz_simpler\\r\\nHow is abcd company direct right for my business?,faq.biz_simpler\\r\\nFrom you can I take the loan?,faq.biz_simpler\\r\\nFor what type of business this loan is provided?,faq.biz_simpler\\r\\nFirms which can apply for this loan?,faq.biz_simpler\\r\\nDo you offer loan to business like ours?,faq.biz_simpler\\r\\nCan my business take loan from you?,faq.biz_simpler\\r\\nCan my business avail abcd company direct?,faq.biz_simpler\\r\\nWhich business can take loan from you?,faq.biz_simpler\\r\\nWhat types of companies do you give loans to?,faq.biz_simpler\\r\\nWhat types of businesses does your loan caters?,faq.biz_simpler\\r\\nWhat kind of companies use this loan,faq.biz_simpler\\r\\nWhat kind of companies use abcd company direct,faq.biz_simpler\\r\\nCan I take the business loan from your company?,faq.biz_simpler\\r\\nCan I take the business loan from you?,faq.biz_simpler\\r\\nCan I take loan from your company?,faq.biz_simpler\\r\\nCan can be taken by any business?,faq.biz_simpler\\r\\nBusinesses which can avail services of abcd company direct?,faq.biz_simpler\\r\\nAny business can take this loan?,faq.biz_simpler\\r\\nabcd company provides loan to which type of business?,faq.biz_simpler\\r\\nabcd company is for providing loan and is available for all kind of biz?,faq.biz_simpler\\r\\nabcd company gives loan to which kind to businesses?,faq.biz_simpler\\r\\nabcd company direct would be suitable for my business?,faq.biz_simpler\\r\\nabcd company direct will be offered to which types of business?,faq.biz_simpler\\r\\nabcd company direct is given to which of the businesses?,faq.biz_simpler\\r\\nabcd company direct is given to what kind of businesses?,faq.biz_simpler\\r\\nabcd company direct is delivered for what kinds of businesses?,faq.biz_simpler\\r\\nabcd company direct is available for my business?,faq.biz_simpler\\r\\nabcd company direct could be used for what type of business?,faq.biz_simpler\\r\\nabcd company direct caters to what kind of business?,faq.biz_simpler\\r\\nabcd company direct can used by which business?,faq.biz_simpler\\r\\nabcd company direct can be used in my business?,faq.biz_simpler\\r\\nabcd company direct can be used by which of the businesses?,faq.biz_simpler\\r\\nabcd company direct can be used by business of which types?,faq.biz_simpler\\r\\nIs this loan give only to firms?,faq.biz_simpler\\r\\nCan my business apply for abcd company direct?,faq.biz_simpler\\r\\nWho can take loan from abcd company?,faq.biz_simpler\\r\\nthis loan give only to business?,faq.biz_simpler\\r\\nthis loan give only to businesses?,faq.biz_simpler\\r\\nthis loan give only to companies?,faq.biz_simpler\\r\\nWhat kind of business can take loan from you?,faq.biz_simpler\\r\\nTypes of companies you give loans to?,faq.biz_simpler\\r\\nTypes of business which can apply for this loan of abcd company?,faq.biz_simpler\\r\\nTypes of business that can have loan from you?,faq.biz_simpler\\r\\nTypes of business that can have loan?,faq.biz_simpler\\r\\nTypes of businesses which can apply for loan from your company?,faq.biz_simpler\\r\\nWhich businesses does this loan caters to?,faq.biz_simpler\\r\\nWhich type of business can apply for abcd company direct?,faq.biz_simpler\\r\\nWhich types of business can have loan from you?,faq.biz_simpler\\r\\nWho can apply for abcd company direct?,faq.biz_simpler\\r\\nWho can take loan from abcd company?,faq.biz_simpler\\r\\nYou will provide your loan to us?,faq.biz_simpler\\r\\nYour company gives loan to what kind of businesses?,faq.biz_simpler\\r\\nYou provide loan of which business?,faq.biz_simpler\\r\\nYou give loan to which types of business?,faq.biz_simpler\\r\\nWould abcd company direct be right for my business,faq.biz_simpler\\r\\nWill you give me your loan?,faq.biz_simpler\\r\\nTo which types of companies do you give loans,faq.biz_simpler\\r\\nTo which types of businesses do you offer loan?,faq.biz_simpler\\r\\nHow much amount of money can I have?,faq.borrow_limit\\r\\n\"How much can I borrow, and for how long?\",faq.borrow_limit\\r\\nAmount given for loan?,faq.borrow_limit\\r\\nAmount I can borrow from this loan?,faq.borrow_limit\\r\\nAmount I can have as loan?,faq.borrow_limit\\r\\nAmount I can take as loan?,faq.borrow_limit\\r\\nAmount of loan that I can take?,faq.borrow_limit\\r\\nHow much loan amount can I get?,faq.borrow_limit\\r\\nAmount of money I can take as a loan?,faq.borrow_limit\\r\\nAmount of money I can take as loan?,faq.borrow_limit\\r\\nAmount of money I have as loan from abcd company?,faq.borrow_limit\\r\\nHow much loan amount can I take from you?,faq.borrow_limit\\r\\nBorrowing limit?,faq.borrow_limit\\r\\nBorrow limit?,faq.borrow_limit\\r\\nCan you send me the info about money I can have from this loan?,faq.borrow_limit\\r\\nDifferent loan amounts I can have as loan?,faq.borrow_limit\\r\\nFinal limit of money I can take as a loan?,faq.borrow_limit\\r\\nFor how long can I have your borrowed money?,faq.borrow_limit\\r\\nHow much amount I can get?,faq.borrow_limit\\r\\nIs there any limit on loan I can have?,faq.borrow_limit\\r\\nI can have what type of loan amount?,faq.borrow_limit\\r\\nHow much money can I take as loan?,faq.borrow_limit\\r\\nHow much loan can I get?,faq.borrow_limit\\r\\nHow much loan can I get ?,faq.borrow_limit\\r\\nHow much loan amount I can get?,faq.borrow_limit\\r\\nHow much loan amount can I take as a loan?,faq.borrow_limit\\r\\nAmount till which you give loans to busineses?,faq.borrow_limit\\r\\nAs a loan how much loan amount can I take?,faq.borrow_limit\\r\\nAs a loan how much money can I have?,faq.borrow_limit\\r\\nAs loan how money can I have?,faq.borrow_limit\\r\\nWhen will I have to give back the loan amount I take from abcd company direct?,faq.borrow_limit\\r\\nWhat si the borrow limit?,faq.borrow_limit\\r\\nWhat loan amount I can get as loan?,faq.borrow_limit\\r\\nWhat is your borrowing limit?,faq.borrow_limit\\r\\nWhat is the total amount I can borrow from this loan?,faq.borrow_limit\\r\\nWhat is the money I can borrow from this loan?,faq.borrow_limit\\r\\nWhat is the loan amount I can take as loan?,faq.borrow_limit\\r\\nWhat is the limit of loan I can have?,faq.borrow_limit\\r\\nWhat is money I Can take as a loan?,faq.borrow_limit\\r\\nWhat is amount you give money to businesses?,faq.borrow_limit\\r\\nWhat are the loan amounts that I can have?,faq.borrow_limit\\r\\nWhat are the different loan amount I can have?,faq.borrow_limit\\r\\nWhat amount of loan I can take from you?,faq.borrow_limit\\r\\nTotal money I can borrow from your loan?,faq.borrow_limit\\r\\nTotal amount of money I can have from your simplerloan?,faq.borrow_limit\\r\\nTotal amount of money I can have from your abcd company direct?,faq.borrow_limit\\r\\nTotal amount I can borrow from your loan?,faq.borrow_limit\\r\\nTill what amount do you give loan?,faq.borrow_limit\\r\\nTill amount which you give loan to businesses?,faq.borrow_limit\\r\\nTell me the money I can borrow from the loan?,faq.borrow_limit\\r\\nTell me the loan amount I can take from you?,faq.borrow_limit\\r\\nTell me the limit on loan that I have?,faq.borrow_limit\\r\\nWhat is the borrowing limit?,faq.borrow_limit\\r\\nLoan amount I can take from you?,faq.borrow_limit\\r\\nLoan amount I can have?,faq.borrow_limit\\r\\nLimit of money I can take as loan?,faq.borrow_limit\\r\\nNeed information about the money I can take from simplerloan?,faq.borrow_limit\\r\\nPlease send information about the amount of money I can have from this loan?,faq.borrow_limit\\r\\nPlease send information about the money I can have from this loan?,faq.borrow_limit\\r\\nNeed information about the money I can take from abcd company direct?,faq.borrow_limit\\r\\nNeed information about the amount I can take from this loan?,faq.borrow_limit\\r\\nNeed information about the amount I can take from abcd company direct?,faq.borrow_limit\\r\\nNeed details about how much money I can take from abcd company direct?,faq.borrow_limit\\r\\nNeed details about how much money I can take?,faq.borrow_limit\\r\\nNeed details about how much amount I can take from this loan?,faq.borrow_limit\\r\\nNeed details about how much amount I can take from abcd company direct?,faq.borrow_limit\\r\\nMost money I can have as loan?,faq.borrow_limit\\r\\nMoney I can borrow from your company?,faq.borrow_limit\\r\\nMoney I can borrow from this loan?,faq.borrow_limit\\r\\nPlease tell me the amount I can borrow?,faq.borrow_limit\\r\\nPlease tell me the amount I can borrow from abcd company direct?,faq.borrow_limit\\r\\nPlease tell me the amount I can borrow from this loan?,faq.borrow_limit\\r\\nPlease tell me the money I can borrow from abcd company direct?,faq.borrow_limit\\r\\nSend info about the amount I can have from this loan?,faq.borrow_limit\\r\\nSend info about the money I can have from this loan?,faq.borrow_limit\\r\\nTell me the amount I can borrow from the loan?,faq.borrow_limit\\r\\nborrow money given can used by me for which purposes?,faq.borrow_use\\r\\nCan this borrowed amount be used for business purposes?,faq.borrow_use\\r\\nCan this borrowed amount be used for business reasons?,faq.borrow_use\\r\\nCases in which abcd company direct would be used be me,faq.borrow_use\\r\\nDifferent objectives I can do with abcd company direct?,faq.borrow_use\\r\\nDifferent purposes this borrowed amount can be used?,faq.borrow_use\\r\\nDifferent purposes this borrowed money can be used?,faq.borrow_use\\r\\nDifferent reasons this borrowed amount can be used?,faq.borrow_use\\r\\nDifferent reasons this borrowed money can be used?,faq.borrow_use\\r\\nFor what functions can I use abcd company direct?,faq.borrow_use\\r\\nFor what functions can I use this loan?,faq.borrow_use\\r\\nFor what purposes can I use abcd company direct?,faq.borrow_use\\r\\nFor what purposes can I use the borrowed amount?,faq.borrow_use\\r\\nFor what purposes can I use the borrow money?,faq.borrow_use\\r\\nWhich purposes can this borrowed amount be used for?,faq.borrow_use\\r\\nWhich objectives can I fulfill with abcd company direct?,faq.borrow_use\\r\\nWhere would I use you this loan?,faq.borrow_use\\r\\nWhere would I use you abcd company direct?,faq.borrow_use\\r\\nWhere to use abcd company direct money?,faq.borrow_use\\r\\nWhere can I use this money from loan?,faq.borrow_use\\r\\nWhere can I use this loan?,faq.borrow_use\\r\\nWhere can I use the loan money?,faq.borrow_use\\r\\nWhere can I use the loan?,faq.borrow_use\\r\\nWhere can I used the loaned amount?,faq.borrow_use\\r\\nWhere can I use abcd company direct,faq.borrow_use\\r\\nWhat can I use the money?,faq.borrow_use\\r\\nWhat can I use the loan money for?,faq.borrow_use\\r\\nWhat can I use the loan amount for?,faq.borrow_use\\r\\nWhat can I use the borrowed money for? What can I not use the borrowed money for?,faq.borrow_use\\r\\nWhat can I use the borrowed money for?,faq.borrow_use\\r\\nWhat are the various purposes that abcd company direct can be used for?,faq.borrow_use\\r\\nWhat are the various functions that abcd company direct can be used for?,faq.borrow_use\\r\\nWhat are the different things where abcd company direct is benificial?,faq.borrow_use\\r\\nWhat are the different things that abcd company direct can be used for,faq.borrow_use\\r\\nWhat are the different reasons this borrowed amount is valid?,faq.borrow_use\\r\\nWhat are the different purposes this borrowed money is valid?,faq.borrow_use\\r\\nWhat are the different purposes this borrowed amount is valid?,faq.borrow_use\\r\\nWhat are the different objectives can I fulfill with abcd company direct,faq.borrow_use\\r\\nVarious reasons I can use the borrow money?,faq.borrow_use\\r\\nVarious reasons I can use the borrowed amount?,faq.borrow_use\\r\\nVarious purposes I can use the borrowed amount?,faq.borrow_use\\r\\nUse cases for this loan?,faq.borrow_use\\r\\nUse cases for abcd company direct,faq.borrow_use\\r\\nWhich purposes can this borrowed money be used for?,faq.borrow_use\\r\\nif i am a stock market trader then can i get the loan,faq.borrow_use\\r\\nstock market trader then can i get the loan,faq.borrow_use\\r\\nstock market trader i need loan,faq.borrow_use\\r\\nstock market trader i need loan from abcd company,faq.borrow_use\\r\\nFrom abcd company i need loan and i\\'m in trading,faq.borrow_use\\r\\nLoan amount can be used where?,faq.borrow_use\\r\\ncan i get loan for trading in stocks,faq.borrow_use\\r\\nNeed loan for trading,faq.borrow_use\\r\\nFor what reasons can I use abcd company direct?,faq.borrow_use\\r\\nFor what reasons can I use the borrowed amount?,faq.borrow_use\\r\\nFor what scenarios will abcd company direct help?,faq.borrow_use\\r\\nFor what scenarios will this loan help?,faq.borrow_use\\r\\nFor which functions will I use abcd company direct?,faq.borrow_use\\r\\nFor which functions will I use this loan?,faq.borrow_use\\r\\nFor which of the purposes will I use abcd company direct?,faq.borrow_use\\r\\nI can use the borrowed amount for what purpose?,faq.borrow_use\\r\\nI can use the borrowed amount for what reason?,faq.borrow_use\\r\\nIn which scenarios would be abcd company direct useful?,faq.borrow_use\\r\\nIn which scenarios would be this loan useful?,faq.borrow_use\\r\\nIs there any restriction on how I use the borrowed money for?,faq.borrow_use\\r\\nLoan amount can be used for doing what?,faq.borrow_use\\r\\ncan i get loan for trading,faq.borrow_use\\r\\nLoan can be used for which purposes?,faq.borrow_use\\r\\nLoan I can use for which purposes?,faq.borrow_use\\r\\nLoan money Can be used where?,faq.borrow_use\\r\\nLoan money use?,faq.borrow_use\\r\\nloan would be used by me for which purposes?,faq.borrow_use\\r\\nMoney of the loan can be used where?,faq.borrow_use\\r\\nMoney taken by abcd company direct can be used where?,faq.borrow_use\\r\\nNeed to taking abcd company direct?,faq.borrow_use\\r\\nObjective I can achieve by using abcd company direct?,faq.borrow_use\\r\\nObjective I can achieve by using this loan?,faq.borrow_use\\r\\nPlease tell me where can I use abcd company direct,faq.borrow_use\\r\\nprojects can I use the borrowed amount in ?,faq.borrow_use\\r\\nPurposes I can use the borrowed amount for?,faq.borrow_use\\r\\nreasons I can use the borrowed amount for?,faq.borrow_use\\r\\nTell me the places where I can use the loaned amount?,faq.borrow_use\\r\\nTell me what can I do with the loaned amount?,faq.borrow_use\\r\\nTell me which objectives can I fulfill with abcd company direct?,faq.borrow_use\\r\\nThe loaned amount can be used where?,faq.borrow_use\\r\\nThings for which abcd company direct would be useful?,faq.borrow_use\\r\\nWhy to take abcd company direct?,faq.borrow_use\\r\\nWhich reasons can this borrowed money be used for?,faq.borrow_use\\r\\nAmount granted by abcd company direct can be used by me for which purposes?,faq.borrow_use\\r\\nabcd company direct would be used by me for which purposes?,faq.borrow_use\\r\\nabcd company direct would be used by me for which functions,faq.borrow_use\\r\\nabcd company direct would be used by me for what purposes?,faq.borrow_use\\r\\nabcd company direct would be benificial for me in which purposes,faq.borrow_use\\r\\nabcd company direct can be use for which scenarios?,faq.borrow_use\\r\\nabcd company direct can be use for which purposes?,faq.borrow_use\\r\\nabcd company direct can be used by me for what purposes?,faq.borrow_use\\r\\nabcd company direct can be used by me for what kind of functions?,faq.borrow_use\\r\\nthis loan would be used by me for which functions,faq.borrow_use\\r\\nAmount I can use for what reasons?,faq.borrow_use\\r\\nborrowed amount can be used for which of the purposes?,faq.borrow_use\\r\\nborrowed amount given can used by me for what reasons?,faq.borrow_use\\r\\nborrowed amount given can used by me for which purposes?,faq.borrow_use\\r\\nborrowed money can be used for which of the purposes?,faq.borrow_use\\r\\nborrow money given can used by me for what reasons?,faq.borrow_use'}"
            ]
          },
          "metadata": {
            "tags": []
          },
          "execution_count": 1
        }
      ]
    },
    {
      "metadata": {
        "id": "a_WypuUXi92e",
        "colab_type": "code",
        "outputId": "133d026e-4236-4ff6-f21d-739bfb9640db",
        "colab": {
          "base_uri": "https://localhost:8080/",
          "height": 34
        }
      },
      "cell_type": "code",
      "source": [
        "import numpy as np\n",
        "import pandas as pd\n",
        "from nltk.corpus import stopwords\n",
        "from nltk.tokenize import word_tokenize\n",
        "from nltk.stem.lancaster import LancasterStemmer\n",
        "import nltk\n",
        "import re\n",
        "from sklearn.preprocessing import OneHotEncoder\n",
        "import matplotlib.pyplot as plt\n",
        "from keras.preprocessing.text import Tokenizer\n",
        "from keras.preprocessing.sequence import pad_sequences\n",
        "from keras.utils import to_categorical\n",
        "from keras.models import Sequential, load_model\n",
        "from keras.layers import Dense, LSTM, Bidirectional, Embedding, Dropout\n",
        "from keras.callbacks import ModelCheckpoint\n"
      ],
      "execution_count": 2,
      "outputs": [
        {
          "output_type": "stream",
          "text": [
            "Using TensorFlow backend.\n"
          ],
          "name": "stderr"
        }
      ]
    },
    {
      "metadata": {
        "id": "LE6wywJrN2ih",
        "colab_type": "code",
        "colab": {}
      },
      "cell_type": "code",
      "source": [
        "def load_dataset(filename):\n",
        "  df = pd.read_csv(filename, encoding = \"latin1\", names = [\"Sentence\", \"Intent\"])\n",
        "  print(df.head())\n",
        "  intent = df[\"Intent\"]\n",
        "  unique_intent = list(set(intent))\n",
        "  sentences = list(df[\"Sentence\"])\n",
        "  \n",
        "  return (intent, unique_intent, sentences)\n",
        "  \n"
      ],
      "execution_count": 0,
      "outputs": []
    },
    {
      "metadata": {
        "id": "tF0FQA7gjOCX",
        "colab_type": "code",
        "colab": {
          "base_uri": "https://localhost:8080/",
          "height": 119
        },
        "outputId": "c609b42a-05da-49f5-8d11-bd670210f635"
      },
      "cell_type": "code",
      "source": [
        "intent, unique_intent, sentences = load_dataset(\"classified_data.csv\")"
      ],
      "execution_count": 5,
      "outputs": [
        {
          "output_type": "stream",
          "text": [
            "                Sentence          Intent\n",
            "0       Need help pleese  commonQ.assist\n",
            "1              Need help  commonQ.assist\n",
            "2       I need some info  commonQ.assist\n",
            "3      Will you help me?  commonQ.assist\n",
            "4  What else can you do?  commonQ.assist\n"
          ],
          "name": "stdout"
        }
      ]
    },
    {
      "metadata": {
        "id": "O8LLUZlokg0S",
        "colab_type": "code",
        "outputId": "c15c21dc-2ef2-43b7-b4af-e7ee9e014091",
        "colab": {
          "base_uri": "https://localhost:8080/",
          "height": 34
        }
      },
      "cell_type": "code",
      "source": [
        "print(sentences[:5])"
      ],
      "execution_count": 0,
      "outputs": [
        {
          "output_type": "stream",
          "text": [
            "['Need help pleese', 'Need help', 'I need some info', 'Will you help me?', 'What else can you do?']\n"
          ],
          "name": "stdout"
        }
      ]
    },
    {
      "metadata": {
        "id": "MhrziINPGHbW",
        "colab_type": "code",
        "outputId": "0861af1b-4b82-4c92-b8f4-b6b57bb3e380",
        "colab": {
          "base_uri": "https://localhost:8080/",
          "height": 102
        }
      },
      "cell_type": "code",
      "source": [
        "nltk.download(\"stopwords\")\n",
        "nltk.download(\"punkt\")"
      ],
      "execution_count": 0,
      "outputs": [
        {
          "output_type": "stream",
          "text": [
            "[nltk_data] Downloading package stopwords to /root/nltk_data...\n",
            "[nltk_data]   Unzipping corpora/stopwords.zip.\n",
            "[nltk_data] Downloading package punkt to /root/nltk_data...\n",
            "[nltk_data]   Unzipping tokenizers/punkt.zip.\n"
          ],
          "name": "stdout"
        },
        {
          "output_type": "execute_result",
          "data": {
            "text/plain": [
              "True"
            ]
          },
          "metadata": {
            "tags": []
          },
          "execution_count": 6
        }
      ]
    },
    {
      "metadata": {
        "id": "OmNLu2YSXePb",
        "colab_type": "code",
        "colab": {}
      },
      "cell_type": "code",
      "source": [
        "#define stemmer\n",
        "stemmer = LancasterStemmer()"
      ],
      "execution_count": 0,
      "outputs": []
    },
    {
      "metadata": {
        "id": "j-7q3iG5PKYI",
        "colab_type": "code",
        "colab": {}
      },
      "cell_type": "code",
      "source": [
        "def cleaning(sentences):\n",
        "  words = []\n",
        "  for s in sentences:\n",
        "    clean = re.sub(r'[^ a-z A-Z 0-9]', \" \", s)\n",
        "    w = word_tokenize(clean)\n",
        "    #stemming\n",
        "    words.append([i.lower() for i in w])\n",
        "    \n",
        "  return words  "
      ],
      "execution_count": 0,
      "outputs": []
    },
    {
      "metadata": {
        "id": "p1j2GJgDG6qj",
        "colab_type": "code",
        "outputId": "c7232a8e-6833-4a1d-e71a-4bc7014084a9",
        "colab": {
          "base_uri": "https://localhost:8080/",
          "height": 51
        }
      },
      "cell_type": "code",
      "source": [
        "cleaned_words = cleaning(sentences)\n",
        "print(len(cleaned_words))\n",
        "print(cleaned_words[:2])  \n",
        "  \n"
      ],
      "execution_count": 0,
      "outputs": [
        {
          "output_type": "stream",
          "text": [
            "1113\n",
            "[['need', 'help', 'pleese'], ['need', 'help']]\n"
          ],
          "name": "stdout"
        }
      ]
    },
    {
      "metadata": {
        "id": "SJCQ_YhBJW7t",
        "colab_type": "code",
        "colab": {}
      },
      "cell_type": "code",
      "source": [
        "def create_tokenizer(words, filters = '!\"#$%&()*+,-./:;<=>?@[\\]^_`{|}~'):\n",
        "  token = Tokenizer(filters = filters)\n",
        "  token.fit_on_texts(words)\n",
        "  return token"
      ],
      "execution_count": 0,
      "outputs": []
    },
    {
      "metadata": {
        "id": "QJhdIJC5Q3Q6",
        "colab_type": "code",
        "colab": {}
      },
      "cell_type": "code",
      "source": [
        "def max_length(words):\n",
        "  return(len(max(words, key = len)))\n",
        "  "
      ],
      "execution_count": 0,
      "outputs": []
    },
    {
      "metadata": {
        "id": "JWjxPGsZZJNX",
        "colab_type": "code",
        "outputId": "b02c8f6b-d0df-4e90-fa3a-2ff730c88300",
        "colab": {
          "base_uri": "https://localhost:8080/",
          "height": 34
        }
      },
      "cell_type": "code",
      "source": [
        "word_tokenizer = create_tokenizer(cleaned_words)\n",
        "vocab_size = len(word_tokenizer.word_index) + 1\n",
        "max_length = max_length(cleaned_words)\n",
        "\n",
        "print(\"Vocab Size = %d and Maximum length = %d\" % (vocab_size, max_length))"
      ],
      "execution_count": 0,
      "outputs": [
        {
          "output_type": "stream",
          "text": [
            "Vocab Size = 492 and Maximum length = 28\n"
          ],
          "name": "stdout"
        }
      ]
    },
    {
      "metadata": {
        "id": "D0TXu2xsR8jq",
        "colab_type": "code",
        "colab": {}
      },
      "cell_type": "code",
      "source": [
        "def encoding_doc(token, words):\n",
        "  return(token.texts_to_sequences(words))"
      ],
      "execution_count": 0,
      "outputs": []
    },
    {
      "metadata": {
        "id": "dE92Hk1Va--H",
        "colab_type": "code",
        "colab": {}
      },
      "cell_type": "code",
      "source": [
        "encoded_doc = encoding_doc(word_tokenizer, cleaned_words)"
      ],
      "execution_count": 0,
      "outputs": []
    },
    {
      "metadata": {
        "id": "fyOzLEboc4LZ",
        "colab_type": "code",
        "colab": {}
      },
      "cell_type": "code",
      "source": [
        "def padding_doc(encoded_doc, max_length):\n",
        "  return(pad_sequences(encoded_doc, maxlen = max_length, padding = \"post\"))"
      ],
      "execution_count": 0,
      "outputs": []
    },
    {
      "metadata": {
        "id": "WdejoJrlc-tc",
        "colab_type": "code",
        "colab": {}
      },
      "cell_type": "code",
      "source": [
        "padded_doc = padding_doc(encoded_doc, max_length)"
      ],
      "execution_count": 0,
      "outputs": []
    },
    {
      "metadata": {
        "id": "gDgTCS2KdI2p",
        "colab_type": "code",
        "outputId": "ac5332cd-0a0f-4311-8db4-22df92728d90",
        "colab": {
          "base_uri": "https://localhost:8080/",
          "height": 272
        }
      },
      "cell_type": "code",
      "source": [
        "padded_doc[:5]"
      ],
      "execution_count": 0,
      "outputs": [
        {
          "output_type": "execute_result",
          "data": {
            "text/plain": [
              "array([[ 25,  77, 332,   0,   0,   0,   0,   0,   0,   0,   0,   0,   0,\n",
              "          0,   0,   0,   0,   0,   0,   0,   0,   0,   0,   0,   0,   0,\n",
              "          0,   0],\n",
              "       [ 25,  77,   0,   0,   0,   0,   0,   0,   0,   0,   0,   0,   0,\n",
              "          0,   0,   0,   0,   0,   0,   0,   0,   0,   0,   0,   0,   0,\n",
              "          0,   0],\n",
              "       [  1,  25, 198, 181,   0,   0,   0,   0,   0,   0,   0,   0,   0,\n",
              "          0,   0,   0,   0,   0,   0,   0,   0,   0,   0,   0,   0,   0,\n",
              "          0,   0],\n",
              "       [ 51,  10,  77,  16,   0,   0,   0,   0,   0,   0,   0,   0,   0,\n",
              "          0,   0,   0,   0,   0,   0,   0,   0,   0,   0,   0,   0,   0,\n",
              "          0,   0],\n",
              "       [  8, 268,   4,  10,  30,   0,   0,   0,   0,   0,   0,   0,   0,\n",
              "          0,   0,   0,   0,   0,   0,   0,   0,   0,   0,   0,   0,   0,\n",
              "          0,   0]], dtype=int32)"
            ]
          },
          "metadata": {
            "tags": []
          },
          "execution_count": 103
        }
      ]
    },
    {
      "metadata": {
        "id": "3eaSIDi0dNf1",
        "colab_type": "code",
        "outputId": "4ab6b6dd-ffa4-4061-9e9d-7a01decfa837",
        "colab": {
          "base_uri": "https://localhost:8080/",
          "height": 34
        }
      },
      "cell_type": "code",
      "source": [
        "print(\"Shape of padded docs = \",padded_doc.shape)"
      ],
      "execution_count": 0,
      "outputs": [
        {
          "output_type": "stream",
          "text": [
            "Shape of padded docs =  (1113, 28)\n"
          ],
          "name": "stdout"
        }
      ]
    },
    {
      "metadata": {
        "id": "X0rXzenSpgFR",
        "colab_type": "code",
        "colab": {}
      },
      "cell_type": "code",
      "source": [
        "#tokenizer with filter changed\n",
        "output_tokenizer = create_tokenizer(unique_intent, filters = '!\"#$%&()*+,-/:;<=>?@[\\]^`{|}~')\n"
      ],
      "execution_count": 0,
      "outputs": []
    },
    {
      "metadata": {
        "id": "yNHQtkszskxr",
        "colab_type": "code",
        "outputId": "f5babc01-89e3-4392-e8e6-c9f257de3d07",
        "colab": {
          "base_uri": "https://localhost:8080/",
          "height": 374
        }
      },
      "cell_type": "code",
      "source": [
        "output_tokenizer.word_index"
      ],
      "execution_count": 0,
      "outputs": [
        {
          "output_type": "execute_result",
          "data": {
            "text/plain": [
              "{'commonq.assist': 7,\n",
              " 'commonq.bot': 17,\n",
              " 'commonq.how': 10,\n",
              " 'commonq.just_details': 20,\n",
              " 'commonq.name': 19,\n",
              " 'commonq.not_giving': 4,\n",
              " 'commonq.query': 12,\n",
              " 'commonq.wait': 14,\n",
              " 'contact.contact': 8,\n",
              " 'faq.aadhaar_missing': 2,\n",
              " 'faq.address_proof': 15,\n",
              " 'faq.application_process': 21,\n",
              " 'faq.apply_register': 16,\n",
              " 'faq.approval_time': 13,\n",
              " 'faq.bad_service': 1,\n",
              " 'faq.banking_option_missing': 18,\n",
              " 'faq.biz_category_missing': 9,\n",
              " 'faq.biz_new': 5,\n",
              " 'faq.biz_simpler': 6,\n",
              " 'faq.borrow_limit': 3,\n",
              " 'faq.borrow_use': 11}"
            ]
          },
          "metadata": {
            "tags": []
          },
          "execution_count": 106
        }
      ]
    },
    {
      "metadata": {
        "id": "7OOx9qdBto1-",
        "colab_type": "code",
        "colab": {}
      },
      "cell_type": "code",
      "source": [
        "encoded_output = encoding_doc(output_tokenizer, intent)"
      ],
      "execution_count": 0,
      "outputs": []
    },
    {
      "metadata": {
        "id": "0_5Lv5PiyG-z",
        "colab_type": "code",
        "colab": {}
      },
      "cell_type": "code",
      "source": [
        "encoded_output = np.array(encoded_output).reshape(len(encoded_output), 1)"
      ],
      "execution_count": 0,
      "outputs": []
    },
    {
      "metadata": {
        "id": "dpM86WrVQlx5",
        "colab_type": "code",
        "outputId": "71ff52a6-b3d0-4b5c-850d-5dc0a56c8aa9",
        "colab": {
          "base_uri": "https://localhost:8080/",
          "height": 34
        }
      },
      "cell_type": "code",
      "source": [
        "encoded_output.shape"
      ],
      "execution_count": 0,
      "outputs": [
        {
          "output_type": "execute_result",
          "data": {
            "text/plain": [
              "(1113, 1)"
            ]
          },
          "metadata": {
            "tags": []
          },
          "execution_count": 109
        }
      ]
    },
    {
      "metadata": {
        "id": "rD3QN-RPzfet",
        "colab_type": "code",
        "colab": {}
      },
      "cell_type": "code",
      "source": [
        "def one_hot(encode):\n",
        "  o = OneHotEncoder(sparse = False)\n",
        "  return(o.fit_transform(encode))"
      ],
      "execution_count": 0,
      "outputs": []
    },
    {
      "metadata": {
        "id": "Z6wP_Xed7RNR",
        "colab_type": "code",
        "colab": {}
      },
      "cell_type": "code",
      "source": [
        "output_one_hot = one_hot(encoded_output)"
      ],
      "execution_count": 0,
      "outputs": []
    },
    {
      "metadata": {
        "id": "A6HVslLTHgOM",
        "colab_type": "code",
        "outputId": "752962df-02d8-409b-fb8f-adb06227161d",
        "colab": {
          "base_uri": "https://localhost:8080/",
          "height": 34
        }
      },
      "cell_type": "code",
      "source": [
        "output_one_hot.shape"
      ],
      "execution_count": 0,
      "outputs": [
        {
          "output_type": "execute_result",
          "data": {
            "text/plain": [
              "(1113, 21)"
            ]
          },
          "metadata": {
            "tags": []
          },
          "execution_count": 112
        }
      ]
    },
    {
      "metadata": {
        "id": "EqABUESD7xi9",
        "colab_type": "code",
        "colab": {}
      },
      "cell_type": "code",
      "source": [
        "from sklearn.model_selection import train_test_split"
      ],
      "execution_count": 0,
      "outputs": []
    },
    {
      "metadata": {
        "id": "h8P4HTz6A4E-",
        "colab_type": "code",
        "colab": {}
      },
      "cell_type": "code",
      "source": [
        "train_X, val_X, train_Y, val_Y = train_test_split(padded_doc, output_one_hot, shuffle = True, test_size = 0.2)\n"
      ],
      "execution_count": 0,
      "outputs": []
    },
    {
      "metadata": {
        "id": "7E0uhC2OCtTx",
        "colab_type": "code",
        "outputId": "6ce0e215-aa3f-43f1-ba5a-0b584b25a35c",
        "colab": {
          "base_uri": "https://localhost:8080/",
          "height": 51
        }
      },
      "cell_type": "code",
      "source": [
        "print(\"Shape of train_X = %s and train_Y = %s\" % (train_X.shape, train_Y.shape))\n",
        "print(\"Shape of val_X = %s and val_Y = %s\" % (val_X.shape, val_Y.shape))"
      ],
      "execution_count": 0,
      "outputs": [
        {
          "output_type": "stream",
          "text": [
            "Shape of train_X = (890, 28) and train_Y = (890, 21)\n",
            "Shape of val_X = (223, 28) and val_Y = (223, 21)\n"
          ],
          "name": "stdout"
        }
      ]
    },
    {
      "metadata": {
        "id": "e5BU_x74DNEb",
        "colab_type": "code",
        "colab": {}
      },
      "cell_type": "code",
      "source": [
        "def create_model(vocab_size, max_length):\n",
        "  model = Sequential()\n",
        "  model.add(Embedding(vocab_size, 128, input_length = max_length, trainable = False))\n",
        "  model.add(Bidirectional(LSTM(128)))\n",
        "#   model.add(LSTM(128))\n",
        "  model.add(Dense(32, activation = \"relu\"))\n",
        "  model.add(Dropout(0.5))\n",
        "  model.add(Dense(21, activation = \"softmax\"))\n",
        "  \n",
        "  return model"
      ],
      "execution_count": 0,
      "outputs": []
    },
    {
      "metadata": {
        "id": "f-NvE0P7MFCe",
        "colab_type": "code",
        "outputId": "8f07056b-579e-4c15-e1af-bdfa8f681e79",
        "colab": {
          "base_uri": "https://localhost:8080/",
          "height": 306
        }
      },
      "cell_type": "code",
      "source": [
        "model = create_model(vocab_size, max_length)\n",
        "\n",
        "model.compile(loss = \"categorical_crossentropy\", optimizer = \"adam\", metrics = [\"accuracy\"])\n",
        "model.summary()"
      ],
      "execution_count": 0,
      "outputs": [
        {
          "output_type": "stream",
          "text": [
            "_________________________________________________________________\n",
            "Layer (type)                 Output Shape              Param #   \n",
            "=================================================================\n",
            "embedding_4 (Embedding)      (None, 28, 128)           62976     \n",
            "_________________________________________________________________\n",
            "bidirectional_4 (Bidirection (None, 256)               263168    \n",
            "_________________________________________________________________\n",
            "dense_7 (Dense)              (None, 32)                8224      \n",
            "_________________________________________________________________\n",
            "dropout_4 (Dropout)          (None, 32)                0         \n",
            "_________________________________________________________________\n",
            "dense_8 (Dense)              (None, 21)                693       \n",
            "=================================================================\n",
            "Total params: 335,061\n",
            "Trainable params: 272,085\n",
            "Non-trainable params: 62,976\n",
            "_________________________________________________________________\n"
          ],
          "name": "stdout"
        }
      ]
    },
    {
      "metadata": {
        "id": "_r-dxm2sMQ-d",
        "colab_type": "code",
        "outputId": "3c37b4f8-fc4e-4c82-ab46-2aa1d8b47ffd",
        "colab": {
          "base_uri": "https://localhost:8080/",
          "height": 6834
        }
      },
      "cell_type": "code",
      "source": [
        "filename = 'model.h5'\n",
        "checkpoint = ModelCheckpoint(filename, monitor='val_loss', verbose=1, save_best_only=True, mode='min')\n",
        "\n",
        "hist = model.fit(train_X, train_Y, epochs = 100, batch_size = 32, validation_data = (val_X, val_Y), callbacks = [checkpoint])"
      ],
      "execution_count": 0,
      "outputs": [
        {
          "output_type": "stream",
          "text": [
            "Train on 890 samples, validate on 223 samples\n",
            "Epoch 1/100\n",
            "890/890 [==============================] - 6s 7ms/step - loss: 2.9782 - acc: 0.1360 - val_loss: 2.9043 - val_acc: 0.1525\n",
            "\n",
            "Epoch 00001: val_loss improved from inf to 2.90433, saving model to model.h5\n",
            "Epoch 2/100\n",
            "890/890 [==============================] - 2s 3ms/step - loss: 2.8882 - acc: 0.1427 - val_loss: 2.7992 - val_acc: 0.1525\n",
            "\n",
            "Epoch 00002: val_loss improved from 2.90433 to 2.79918, saving model to model.h5\n",
            "Epoch 3/100\n",
            "890/890 [==============================] - 2s 3ms/step - loss: 2.7819 - acc: 0.1820 - val_loss: 2.7268 - val_acc: 0.1525\n",
            "\n",
            "Epoch 00003: val_loss improved from 2.79918 to 2.72683, saving model to model.h5\n",
            "Epoch 4/100\n",
            "890/890 [==============================] - 2s 3ms/step - loss: 2.6952 - acc: 0.1944 - val_loss: 2.5927 - val_acc: 0.1749\n",
            "\n",
            "Epoch 00004: val_loss improved from 2.72683 to 2.59273, saving model to model.h5\n",
            "Epoch 5/100\n",
            "890/890 [==============================] - 2s 3ms/step - loss: 2.5884 - acc: 0.2180 - val_loss: 2.4909 - val_acc: 0.1794\n",
            "\n",
            "Epoch 00005: val_loss improved from 2.59273 to 2.49095, saving model to model.h5\n",
            "Epoch 6/100\n",
            "890/890 [==============================] - 2s 3ms/step - loss: 2.5344 - acc: 0.2326 - val_loss: 2.4230 - val_acc: 0.2287\n",
            "\n",
            "Epoch 00006: val_loss improved from 2.49095 to 2.42305, saving model to model.h5\n",
            "Epoch 7/100\n",
            "890/890 [==============================] - 2s 3ms/step - loss: 2.4384 - acc: 0.2652 - val_loss: 2.2649 - val_acc: 0.3094\n",
            "\n",
            "Epoch 00007: val_loss improved from 2.42305 to 2.26485, saving model to model.h5\n",
            "Epoch 8/100\n",
            "890/890 [==============================] - 2s 3ms/step - loss: 2.2893 - acc: 0.3225 - val_loss: 2.2760 - val_acc: 0.3004\n",
            "\n",
            "Epoch 00008: val_loss did not improve from 2.26485\n",
            "Epoch 9/100\n",
            "890/890 [==============================] - 2s 3ms/step - loss: 2.2054 - acc: 0.3180 - val_loss: 2.0418 - val_acc: 0.4036\n",
            "\n",
            "Epoch 00009: val_loss improved from 2.26485 to 2.04178, saving model to model.h5\n",
            "Epoch 10/100\n",
            "890/890 [==============================] - 2s 3ms/step - loss: 2.0911 - acc: 0.3607 - val_loss: 1.8431 - val_acc: 0.4215\n",
            "\n",
            "Epoch 00010: val_loss improved from 2.04178 to 1.84305, saving model to model.h5\n",
            "Epoch 11/100\n",
            "890/890 [==============================] - 2s 3ms/step - loss: 1.9722 - acc: 0.3910 - val_loss: 1.8036 - val_acc: 0.4305\n",
            "\n",
            "Epoch 00011: val_loss improved from 1.84305 to 1.80357, saving model to model.h5\n",
            "Epoch 12/100\n",
            "890/890 [==============================] - 2s 3ms/step - loss: 1.8889 - acc: 0.4079 - val_loss: 1.8256 - val_acc: 0.4664\n",
            "\n",
            "Epoch 00012: val_loss did not improve from 1.80357\n",
            "Epoch 13/100\n",
            "890/890 [==============================] - 2s 3ms/step - loss: 1.8134 - acc: 0.4292 - val_loss: 1.5980 - val_acc: 0.5067\n",
            "\n",
            "Epoch 00013: val_loss improved from 1.80357 to 1.59800, saving model to model.h5\n",
            "Epoch 14/100\n",
            "890/890 [==============================] - 2s 3ms/step - loss: 1.7388 - acc: 0.4640 - val_loss: 1.5988 - val_acc: 0.5650\n",
            "\n",
            "Epoch 00014: val_loss did not improve from 1.59800\n",
            "Epoch 15/100\n",
            "890/890 [==============================] - 2s 3ms/step - loss: 1.6806 - acc: 0.4809 - val_loss: 1.4517 - val_acc: 0.5605\n",
            "\n",
            "Epoch 00015: val_loss improved from 1.59800 to 1.45165, saving model to model.h5\n",
            "Epoch 16/100\n",
            "890/890 [==============================] - 2s 3ms/step - loss: 1.6481 - acc: 0.4978 - val_loss: 1.4127 - val_acc: 0.5650\n",
            "\n",
            "Epoch 00016: val_loss improved from 1.45165 to 1.41267, saving model to model.h5\n",
            "Epoch 17/100\n",
            "890/890 [==============================] - 2s 3ms/step - loss: 1.6591 - acc: 0.4775 - val_loss: 1.4162 - val_acc: 0.5740\n",
            "\n",
            "Epoch 00017: val_loss did not improve from 1.41267\n",
            "Epoch 18/100\n",
            "890/890 [==============================] - 2s 3ms/step - loss: 1.6171 - acc: 0.5169 - val_loss: 1.4132 - val_acc: 0.6009\n",
            "\n",
            "Epoch 00018: val_loss did not improve from 1.41267\n",
            "Epoch 19/100\n",
            "890/890 [==============================] - 2s 3ms/step - loss: 1.5152 - acc: 0.5427 - val_loss: 1.3624 - val_acc: 0.5830\n",
            "\n",
            "Epoch 00019: val_loss improved from 1.41267 to 1.36240, saving model to model.h5\n",
            "Epoch 20/100\n",
            "890/890 [==============================] - 2s 3ms/step - loss: 1.4123 - acc: 0.5584 - val_loss: 1.2573 - val_acc: 0.6188\n",
            "\n",
            "Epoch 00020: val_loss improved from 1.36240 to 1.25734, saving model to model.h5\n",
            "Epoch 21/100\n",
            "890/890 [==============================] - 2s 3ms/step - loss: 1.3911 - acc: 0.5629 - val_loss: 1.2025 - val_acc: 0.6413\n",
            "\n",
            "Epoch 00021: val_loss improved from 1.25734 to 1.20246, saving model to model.h5\n",
            "Epoch 22/100\n",
            "890/890 [==============================] - 2s 3ms/step - loss: 1.3692 - acc: 0.5618 - val_loss: 1.1954 - val_acc: 0.6502\n",
            "\n",
            "Epoch 00022: val_loss improved from 1.20246 to 1.19541, saving model to model.h5\n",
            "Epoch 23/100\n",
            "890/890 [==============================] - 3s 3ms/step - loss: 1.3567 - acc: 0.5854 - val_loss: 1.2296 - val_acc: 0.6413\n",
            "\n",
            "Epoch 00023: val_loss did not improve from 1.19541\n",
            "Epoch 24/100\n",
            "890/890 [==============================] - 3s 3ms/step - loss: 1.3136 - acc: 0.6090 - val_loss: 1.1392 - val_acc: 0.6502\n",
            "\n",
            "Epoch 00024: val_loss improved from 1.19541 to 1.13922, saving model to model.h5\n",
            "Epoch 25/100\n",
            "890/890 [==============================] - 3s 3ms/step - loss: 1.2580 - acc: 0.6079 - val_loss: 1.1172 - val_acc: 0.6682\n",
            "\n",
            "Epoch 00025: val_loss improved from 1.13922 to 1.11720, saving model to model.h5\n",
            "Epoch 26/100\n",
            "890/890 [==============================] - 2s 3ms/step - loss: 1.2573 - acc: 0.6022 - val_loss: 1.1207 - val_acc: 0.6771\n",
            "\n",
            "Epoch 00026: val_loss did not improve from 1.11720\n",
            "Epoch 27/100\n",
            "890/890 [==============================] - 3s 3ms/step - loss: 1.2052 - acc: 0.6494 - val_loss: 1.0577 - val_acc: 0.7040\n",
            "\n",
            "Epoch 00027: val_loss improved from 1.11720 to 1.05773, saving model to model.h5\n",
            "Epoch 28/100\n",
            "890/890 [==============================] - 3s 3ms/step - loss: 1.1640 - acc: 0.6382 - val_loss: 0.9915 - val_acc: 0.6816\n",
            "\n",
            "Epoch 00028: val_loss improved from 1.05773 to 0.99155, saving model to model.h5\n",
            "Epoch 29/100\n",
            "890/890 [==============================] - 2s 3ms/step - loss: 1.1565 - acc: 0.6292 - val_loss: 1.0559 - val_acc: 0.6861\n",
            "\n",
            "Epoch 00029: val_loss did not improve from 0.99155\n",
            "Epoch 30/100\n",
            "890/890 [==============================] - 2s 3ms/step - loss: 1.0922 - acc: 0.6506 - val_loss: 1.0099 - val_acc: 0.7220\n",
            "\n",
            "Epoch 00030: val_loss did not improve from 0.99155\n",
            "Epoch 31/100\n",
            "890/890 [==============================] - 2s 3ms/step - loss: 1.0533 - acc: 0.6854 - val_loss: 0.9850 - val_acc: 0.6951\n",
            "\n",
            "Epoch 00031: val_loss improved from 0.99155 to 0.98495, saving model to model.h5\n",
            "Epoch 32/100\n",
            "890/890 [==============================] - 2s 3ms/step - loss: 1.1115 - acc: 0.6449 - val_loss: 1.2664 - val_acc: 0.6368\n",
            "\n",
            "Epoch 00032: val_loss did not improve from 0.98495\n",
            "Epoch 33/100\n",
            "890/890 [==============================] - 2s 3ms/step - loss: 1.1076 - acc: 0.6708 - val_loss: 0.9223 - val_acc: 0.7175\n",
            "\n",
            "Epoch 00033: val_loss improved from 0.98495 to 0.92228, saving model to model.h5\n",
            "Epoch 34/100\n",
            "890/890 [==============================] - 2s 3ms/step - loss: 1.0198 - acc: 0.6798 - val_loss: 0.8825 - val_acc: 0.7399\n",
            "\n",
            "Epoch 00034: val_loss improved from 0.92228 to 0.88248, saving model to model.h5\n",
            "Epoch 35/100\n",
            "890/890 [==============================] - 2s 3ms/step - loss: 0.9960 - acc: 0.6854 - val_loss: 0.8666 - val_acc: 0.7444\n",
            "\n",
            "Epoch 00035: val_loss improved from 0.88248 to 0.86660, saving model to model.h5\n",
            "Epoch 36/100\n",
            "890/890 [==============================] - 2s 3ms/step - loss: 0.9735 - acc: 0.6966 - val_loss: 0.9215 - val_acc: 0.7265\n",
            "\n",
            "Epoch 00036: val_loss did not improve from 0.86660\n",
            "Epoch 37/100\n",
            "890/890 [==============================] - 2s 3ms/step - loss: 1.0231 - acc: 0.6742 - val_loss: 0.9054 - val_acc: 0.7444\n",
            "\n",
            "Epoch 00037: val_loss did not improve from 0.86660\n",
            "Epoch 38/100\n",
            "890/890 [==============================] - 2s 3ms/step - loss: 1.0616 - acc: 0.6719 - val_loss: 0.8545 - val_acc: 0.7534\n",
            "\n",
            "Epoch 00038: val_loss improved from 0.86660 to 0.85449, saving model to model.h5\n",
            "Epoch 39/100\n",
            "890/890 [==============================] - 2s 3ms/step - loss: 0.9474 - acc: 0.7056 - val_loss: 0.8238 - val_acc: 0.7578\n",
            "\n",
            "Epoch 00039: val_loss improved from 0.85449 to 0.82379, saving model to model.h5\n",
            "Epoch 40/100\n",
            "890/890 [==============================] - 2s 3ms/step - loss: 0.9228 - acc: 0.7067 - val_loss: 0.8466 - val_acc: 0.7354\n",
            "\n",
            "Epoch 00040: val_loss did not improve from 0.82379\n",
            "Epoch 41/100\n",
            "890/890 [==============================] - 2s 3ms/step - loss: 0.8751 - acc: 0.7191 - val_loss: 0.8223 - val_acc: 0.7623\n",
            "\n",
            "Epoch 00041: val_loss improved from 0.82379 to 0.82228, saving model to model.h5\n",
            "Epoch 42/100\n",
            "890/890 [==============================] - 2s 3ms/step - loss: 0.8343 - acc: 0.7303 - val_loss: 0.7481 - val_acc: 0.7848\n",
            "\n",
            "Epoch 00042: val_loss improved from 0.82228 to 0.74811, saving model to model.h5\n",
            "Epoch 43/100\n",
            "890/890 [==============================] - 2s 3ms/step - loss: 0.8497 - acc: 0.7258 - val_loss: 0.7794 - val_acc: 0.7668\n",
            "\n",
            "Epoch 00043: val_loss did not improve from 0.74811\n",
            "Epoch 44/100\n",
            "890/890 [==============================] - 2s 3ms/step - loss: 0.8781 - acc: 0.7281 - val_loss: 0.8378 - val_acc: 0.7578\n",
            "\n",
            "Epoch 00044: val_loss did not improve from 0.74811\n",
            "Epoch 45/100\n",
            "890/890 [==============================] - 2s 3ms/step - loss: 0.8854 - acc: 0.7169 - val_loss: 0.7789 - val_acc: 0.7668\n",
            "\n",
            "Epoch 00045: val_loss did not improve from 0.74811\n",
            "Epoch 46/100\n",
            "890/890 [==============================] - 2s 3ms/step - loss: 0.7754 - acc: 0.7562 - val_loss: 0.7232 - val_acc: 0.7623\n",
            "\n",
            "Epoch 00046: val_loss improved from 0.74811 to 0.72315, saving model to model.h5\n",
            "Epoch 47/100\n",
            "890/890 [==============================] - 2s 3ms/step - loss: 0.8354 - acc: 0.7382 - val_loss: 0.7596 - val_acc: 0.7758\n",
            "\n",
            "Epoch 00047: val_loss did not improve from 0.72315\n",
            "Epoch 48/100\n",
            "890/890 [==============================] - 2s 3ms/step - loss: 0.8539 - acc: 0.7169 - val_loss: 0.7435 - val_acc: 0.7534\n",
            "\n",
            "Epoch 00048: val_loss did not improve from 0.72315\n",
            "Epoch 49/100\n",
            "890/890 [==============================] - 2s 3ms/step - loss: 0.7900 - acc: 0.7618 - val_loss: 0.7327 - val_acc: 0.7848\n",
            "\n",
            "Epoch 00049: val_loss did not improve from 0.72315\n",
            "Epoch 50/100\n",
            "890/890 [==============================] - 2s 3ms/step - loss: 0.7821 - acc: 0.7528 - val_loss: 0.7316 - val_acc: 0.7713\n",
            "\n",
            "Epoch 00050: val_loss did not improve from 0.72315\n",
            "Epoch 51/100\n",
            "890/890 [==============================] - 2s 3ms/step - loss: 0.7592 - acc: 0.7472 - val_loss: 0.6988 - val_acc: 0.7937\n",
            "\n",
            "Epoch 00051: val_loss improved from 0.72315 to 0.69884, saving model to model.h5\n",
            "Epoch 52/100\n",
            "890/890 [==============================] - 2s 3ms/step - loss: 0.7563 - acc: 0.7551 - val_loss: 0.7993 - val_acc: 0.7399\n",
            "\n",
            "Epoch 00052: val_loss did not improve from 0.69884\n",
            "Epoch 53/100\n",
            "890/890 [==============================] - 2s 3ms/step - loss: 0.7789 - acc: 0.7573 - val_loss: 0.7125 - val_acc: 0.7982\n",
            "\n",
            "Epoch 00053: val_loss did not improve from 0.69884\n",
            "Epoch 54/100\n",
            "890/890 [==============================] - 2s 3ms/step - loss: 0.7379 - acc: 0.7629 - val_loss: 0.6673 - val_acc: 0.7937\n",
            "\n",
            "Epoch 00054: val_loss improved from 0.69884 to 0.66734, saving model to model.h5\n",
            "Epoch 55/100\n",
            "890/890 [==============================] - 2s 3ms/step - loss: 0.6960 - acc: 0.7798 - val_loss: 0.6728 - val_acc: 0.8072\n",
            "\n",
            "Epoch 00055: val_loss did not improve from 0.66734\n",
            "Epoch 56/100\n",
            "890/890 [==============================] - 2s 3ms/step - loss: 0.7107 - acc: 0.7697 - val_loss: 0.7927 - val_acc: 0.7937\n",
            "\n",
            "Epoch 00056: val_loss did not improve from 0.66734\n",
            "Epoch 57/100\n",
            "890/890 [==============================] - 2s 3ms/step - loss: 0.6797 - acc: 0.7865 - val_loss: 0.6742 - val_acc: 0.7848\n",
            "\n",
            "Epoch 00057: val_loss did not improve from 0.66734\n",
            "Epoch 58/100\n",
            "890/890 [==============================] - 2s 3ms/step - loss: 0.8060 - acc: 0.7528 - val_loss: 0.7272 - val_acc: 0.7982\n",
            "\n",
            "Epoch 00058: val_loss did not improve from 0.66734\n",
            "Epoch 59/100\n",
            "890/890 [==============================] - 2s 3ms/step - loss: 0.7402 - acc: 0.7584 - val_loss: 0.6084 - val_acc: 0.8117\n",
            "\n",
            "Epoch 00059: val_loss improved from 0.66734 to 0.60839, saving model to model.h5\n",
            "Epoch 60/100\n",
            "890/890 [==============================] - 2s 3ms/step - loss: 0.6877 - acc: 0.7764 - val_loss: 0.6820 - val_acc: 0.8027\n",
            "\n",
            "Epoch 00060: val_loss did not improve from 0.60839\n",
            "Epoch 61/100\n",
            "890/890 [==============================] - 2s 3ms/step - loss: 0.6461 - acc: 0.7831 - val_loss: 0.6297 - val_acc: 0.7982\n",
            "\n",
            "Epoch 00061: val_loss did not improve from 0.60839\n",
            "Epoch 62/100\n",
            "890/890 [==============================] - 2s 3ms/step - loss: 0.6514 - acc: 0.7820 - val_loss: 0.6399 - val_acc: 0.7982\n",
            "\n",
            "Epoch 00062: val_loss did not improve from 0.60839\n",
            "Epoch 63/100\n",
            "890/890 [==============================] - 2s 3ms/step - loss: 0.6101 - acc: 0.7933 - val_loss: 0.6317 - val_acc: 0.8206\n",
            "\n",
            "Epoch 00063: val_loss did not improve from 0.60839\n",
            "Epoch 64/100\n",
            "890/890 [==============================] - 2s 3ms/step - loss: 0.6315 - acc: 0.7899 - val_loss: 0.6365 - val_acc: 0.8206\n",
            "\n",
            "Epoch 00064: val_loss did not improve from 0.60839\n",
            "Epoch 65/100\n",
            "890/890 [==============================] - 2s 3ms/step - loss: 0.5860 - acc: 0.8079 - val_loss: 0.6322 - val_acc: 0.7982\n",
            "\n",
            "Epoch 00065: val_loss did not improve from 0.60839\n",
            "Epoch 66/100\n",
            "890/890 [==============================] - 2s 3ms/step - loss: 0.6142 - acc: 0.7955 - val_loss: 0.6541 - val_acc: 0.8072\n",
            "\n",
            "Epoch 00066: val_loss did not improve from 0.60839\n",
            "Epoch 67/100\n",
            "890/890 [==============================] - 2s 3ms/step - loss: 0.7070 - acc: 0.7764 - val_loss: 0.6352 - val_acc: 0.8027\n",
            "\n",
            "Epoch 00067: val_loss did not improve from 0.60839\n",
            "Epoch 68/100\n",
            "890/890 [==============================] - 2s 3ms/step - loss: 0.7078 - acc: 0.7876 - val_loss: 0.6412 - val_acc: 0.7892\n",
            "\n",
            "Epoch 00068: val_loss did not improve from 0.60839\n",
            "Epoch 69/100\n",
            "890/890 [==============================] - 2s 3ms/step - loss: 0.6207 - acc: 0.8011 - val_loss: 0.7188 - val_acc: 0.7982\n",
            "\n",
            "Epoch 00069: val_loss did not improve from 0.60839\n",
            "Epoch 70/100\n",
            "890/890 [==============================] - 2s 3ms/step - loss: 0.6041 - acc: 0.7955 - val_loss: 0.6358 - val_acc: 0.8117\n",
            "\n",
            "Epoch 00070: val_loss did not improve from 0.60839\n",
            "Epoch 71/100\n",
            "890/890 [==============================] - 2s 3ms/step - loss: 0.6011 - acc: 0.8112 - val_loss: 0.6325 - val_acc: 0.8117\n",
            "\n",
            "Epoch 00071: val_loss did not improve from 0.60839\n",
            "Epoch 72/100\n",
            "890/890 [==============================] - 2s 3ms/step - loss: 0.5301 - acc: 0.8382 - val_loss: 0.6486 - val_acc: 0.8027\n",
            "\n",
            "Epoch 00072: val_loss did not improve from 0.60839\n",
            "Epoch 73/100\n",
            "890/890 [==============================] - 2s 3ms/step - loss: 0.5570 - acc: 0.8034 - val_loss: 0.5936 - val_acc: 0.8251\n",
            "\n",
            "Epoch 00073: val_loss improved from 0.60839 to 0.59361, saving model to model.h5\n",
            "Epoch 74/100\n",
            "890/890 [==============================] - 2s 3ms/step - loss: 0.5410 - acc: 0.8303 - val_loss: 0.6323 - val_acc: 0.8117\n",
            "\n",
            "Epoch 00074: val_loss did not improve from 0.59361\n",
            "Epoch 75/100\n",
            "890/890 [==============================] - 2s 3ms/step - loss: 0.5399 - acc: 0.8101 - val_loss: 0.5460 - val_acc: 0.8072\n",
            "\n",
            "Epoch 00075: val_loss improved from 0.59361 to 0.54596, saving model to model.h5\n",
            "Epoch 76/100\n",
            "890/890 [==============================] - 2s 3ms/step - loss: 0.5606 - acc: 0.8112 - val_loss: 0.6769 - val_acc: 0.8117\n",
            "\n",
            "Epoch 00076: val_loss did not improve from 0.54596\n",
            "Epoch 77/100\n",
            "890/890 [==============================] - 2s 3ms/step - loss: 0.5133 - acc: 0.8315 - val_loss: 0.5594 - val_acc: 0.8161\n",
            "\n",
            "Epoch 00077: val_loss did not improve from 0.54596\n",
            "Epoch 78/100\n",
            "890/890 [==============================] - 2s 3ms/step - loss: 0.5338 - acc: 0.8202 - val_loss: 0.5819 - val_acc: 0.8161\n",
            "\n",
            "Epoch 00078: val_loss did not improve from 0.54596\n",
            "Epoch 79/100\n",
            "890/890 [==============================] - 2s 3ms/step - loss: 0.5265 - acc: 0.8270 - val_loss: 0.5909 - val_acc: 0.8296\n",
            "\n",
            "Epoch 00079: val_loss did not improve from 0.54596\n",
            "Epoch 80/100\n",
            "890/890 [==============================] - 2s 3ms/step - loss: 0.5336 - acc: 0.8169 - val_loss: 0.5890 - val_acc: 0.8027\n",
            "\n",
            "Epoch 00080: val_loss did not improve from 0.54596\n",
            "Epoch 81/100\n",
            "890/890 [==============================] - 2s 3ms/step - loss: 0.4958 - acc: 0.8382 - val_loss: 0.5775 - val_acc: 0.8117\n",
            "\n",
            "Epoch 00081: val_loss did not improve from 0.54596\n",
            "Epoch 82/100\n",
            "890/890 [==============================] - 2s 3ms/step - loss: 0.4785 - acc: 0.8337 - val_loss: 0.5822 - val_acc: 0.8117\n",
            "\n",
            "Epoch 00082: val_loss did not improve from 0.54596\n",
            "Epoch 83/100\n",
            "890/890 [==============================] - 2s 3ms/step - loss: 0.5036 - acc: 0.8348 - val_loss: 0.6093 - val_acc: 0.8117\n",
            "\n",
            "Epoch 00083: val_loss did not improve from 0.54596\n",
            "Epoch 84/100\n",
            "890/890 [==============================] - 2s 3ms/step - loss: 0.4682 - acc: 0.8528 - val_loss: 0.6763 - val_acc: 0.8117\n",
            "\n",
            "Epoch 00084: val_loss did not improve from 0.54596\n",
            "Epoch 85/100\n",
            "890/890 [==============================] - 2s 3ms/step - loss: 0.4722 - acc: 0.8427 - val_loss: 0.6187 - val_acc: 0.8072\n",
            "\n",
            "Epoch 00085: val_loss did not improve from 0.54596\n",
            "Epoch 86/100\n",
            "890/890 [==============================] - 2s 3ms/step - loss: 0.4698 - acc: 0.8461 - val_loss: 0.6348 - val_acc: 0.8072\n",
            "\n",
            "Epoch 00086: val_loss did not improve from 0.54596\n",
            "Epoch 87/100\n",
            "890/890 [==============================] - 2s 3ms/step - loss: 0.4893 - acc: 0.8326 - val_loss: 0.7569 - val_acc: 0.7892\n",
            "\n",
            "Epoch 00087: val_loss did not improve from 0.54596\n",
            "Epoch 88/100\n",
            "890/890 [==============================] - 2s 3ms/step - loss: 0.4725 - acc: 0.8438 - val_loss: 0.6260 - val_acc: 0.8117\n",
            "\n",
            "Epoch 00088: val_loss did not improve from 0.54596\n",
            "Epoch 89/100\n",
            "890/890 [==============================] - 2s 3ms/step - loss: 0.4730 - acc: 0.8438 - val_loss: 0.6051 - val_acc: 0.8161\n",
            "\n",
            "Epoch 00089: val_loss did not improve from 0.54596\n",
            "Epoch 90/100\n",
            "890/890 [==============================] - 2s 3ms/step - loss: 0.4911 - acc: 0.8438 - val_loss: 0.5733 - val_acc: 0.8251\n",
            "\n",
            "Epoch 00090: val_loss did not improve from 0.54596\n",
            "Epoch 91/100\n",
            "890/890 [==============================] - 2s 3ms/step - loss: 0.4425 - acc: 0.8404 - val_loss: 0.5804 - val_acc: 0.8117\n",
            "\n",
            "Epoch 00091: val_loss did not improve from 0.54596\n",
            "Epoch 92/100\n",
            "890/890 [==============================] - 2s 3ms/step - loss: 0.4360 - acc: 0.8539 - val_loss: 0.5451 - val_acc: 0.8072\n",
            "\n",
            "Epoch 00092: val_loss improved from 0.54596 to 0.54509, saving model to model.h5\n",
            "Epoch 93/100\n",
            "890/890 [==============================] - 2s 3ms/step - loss: 0.4506 - acc: 0.8528 - val_loss: 0.5670 - val_acc: 0.8161\n",
            "\n",
            "Epoch 00093: val_loss did not improve from 0.54509\n",
            "Epoch 94/100\n",
            "890/890 [==============================] - 2s 3ms/step - loss: 0.4119 - acc: 0.8618 - val_loss: 0.5561 - val_acc: 0.8206\n",
            "\n",
            "Epoch 00094: val_loss did not improve from 0.54509\n",
            "Epoch 95/100\n",
            "890/890 [==============================] - 2s 3ms/step - loss: 0.4318 - acc: 0.8629 - val_loss: 0.5851 - val_acc: 0.8206\n",
            "\n",
            "Epoch 00095: val_loss did not improve from 0.54509\n",
            "Epoch 96/100\n",
            "890/890 [==============================] - 2s 3ms/step - loss: 0.4116 - acc: 0.8618 - val_loss: 0.7502 - val_acc: 0.7982\n",
            "\n",
            "Epoch 00096: val_loss did not improve from 0.54509\n",
            "Epoch 97/100\n",
            "890/890 [==============================] - 2s 3ms/step - loss: 0.4734 - acc: 0.8348 - val_loss: 0.6101 - val_acc: 0.8072\n",
            "\n",
            "Epoch 00097: val_loss did not improve from 0.54509\n",
            "Epoch 98/100\n",
            "890/890 [==============================] - 2s 3ms/step - loss: 0.4245 - acc: 0.8494 - val_loss: 0.6180 - val_acc: 0.8161\n",
            "\n",
            "Epoch 00098: val_loss did not improve from 0.54509\n",
            "Epoch 99/100\n",
            "890/890 [==============================] - 2s 3ms/step - loss: 0.3777 - acc: 0.8708 - val_loss: 0.6302 - val_acc: 0.8027\n",
            "\n",
            "Epoch 00099: val_loss did not improve from 0.54509\n",
            "Epoch 100/100\n",
            "890/890 [==============================] - 2s 3ms/step - loss: 0.3928 - acc: 0.8629 - val_loss: 0.5741 - val_acc: 0.8296\n",
            "\n",
            "Epoch 00100: val_loss did not improve from 0.54509\n"
          ],
          "name": "stdout"
        }
      ]
    },
    {
      "metadata": {
        "id": "YjXKos8ocXvw",
        "colab_type": "code",
        "colab": {}
      },
      "cell_type": "code",
      "source": [
        " model = load_model(\"model.h5\")"
      ],
      "execution_count": 0,
      "outputs": []
    },
    {
      "metadata": {
        "id": "qSTEzrlzcuya",
        "colab_type": "code",
        "colab": {}
      },
      "cell_type": "code",
      "source": [
        "def predictions(text):\n",
        "  clean = re.sub(r'[^ a-z A-Z 0-9]', \" \", text)\n",
        "  test_word = word_tokenize(clean)\n",
        "  test_word = [w.lower() for w in test_word]\n",
        "  test_ls = word_tokenizer.texts_to_sequences(test_word)\n",
        "  print(test_word)\n",
        "  #Check for unknown words\n",
        "  if [] in test_ls:\n",
        "    test_ls = list(filter(None, test_ls))\n",
        "    \n",
        "  test_ls = np.array(test_ls).reshape(1, len(test_ls))\n",
        " \n",
        "  x = padding_doc(test_ls, max_length)\n",
        "  \n",
        "  pred = model.predict_proba(x)\n",
        "  \n",
        "  \n",
        "  return pred\n",
        "\n",
        "\n",
        "  "
      ],
      "execution_count": 0,
      "outputs": []
    },
    {
      "metadata": {
        "id": "P1ddofshmdzK",
        "colab_type": "code",
        "colab": {}
      },
      "cell_type": "code",
      "source": [
        "def get_final_output(pred, classes):\n",
        "  predictions = pred[0]\n",
        " \n",
        "  classes = np.array(classes)\n",
        "  ids = np.argsort(-predictions)\n",
        "  classes = classes[ids]\n",
        "  predictions = -np.sort(-predictions)\n",
        " \n",
        "  for i in range(pred.shape[1]):\n",
        "    print(\"%s has confidence = %s\" % (classes[i], (predictions[i])))\n",
        "\n"
      ],
      "execution_count": 0,
      "outputs": []
    },
    {
      "metadata": {
        "id": "23VpGuihMdEU",
        "colab_type": "code",
        "outputId": "cd36c932-0fb0-4166-92ae-546a7676e645",
        "colab": {
          "base_uri": "https://localhost:8080/",
          "height": 391
        }
      },
      "cell_type": "code",
      "source": [
        "text = \"Can you help me?\"\n",
        "pred = predictions(text)\n",
        "get_final_output(pred, unique_intent)"
      ],
      "execution_count": 0,
      "outputs": [
        {
          "output_type": "stream",
          "text": [
            "['can', 'you', 'help', 'me']\n",
            "commonQ.bot has confidence = 0.36795393\n",
            "commonQ.assist has confidence = 0.16660453\n",
            "commonQ.name has confidence = 0.099936575\n",
            "commonQ.how has confidence = 0.06334855\n",
            "contact.contact has confidence = 0.054278344\n",
            "commonQ.wait has confidence = 0.052236915\n",
            "commonQ.query has confidence = 0.051277034\n",
            "commonQ.not_giving has confidence = 0.04576558\n",
            "faq.bad_service has confidence = 0.03385044\n",
            "faq.apply_register has confidence = 0.028019888\n",
            "commonQ.just_details has confidence = 0.011791903\n",
            "faq.aadhaar_missing has confidence = 0.0071439296\n",
            "faq.biz_new has confidence = 0.006986265\n",
            "faq.biz_simpler has confidence = 0.004185721\n",
            "faq.address_proof has confidence = 0.0019074384\n",
            "faq.borrow_limit has confidence = 0.001540506\n",
            "faq.biz_category_missing has confidence = 0.0012643315\n",
            "faq.banking_option_missing has confidence = 0.0009443802\n",
            "faq.application_process has confidence = 0.0004247952\n",
            "faq.borrow_use has confidence = 0.0003924411\n",
            "faq.approval_time has confidence = 0.00014650628\n"
          ],
          "name": "stdout"
        }
      ]
    },
    {
      "metadata": {
        "id": "bKUBDT36IHKO",
        "colab_type": "code",
        "colab": {}
      },
      "cell_type": "code",
      "source": [
        ""
      ],
      "execution_count": 0,
      "outputs": []
    }
  ]
}